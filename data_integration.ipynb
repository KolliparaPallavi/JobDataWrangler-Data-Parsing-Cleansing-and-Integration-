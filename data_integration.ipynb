{
 "cells": [
  {
   "cell_type": "markdown",
   "metadata": {},
   "source": [
    "# Assignment 1: Data Parsing, Cleansing and Integration\n",
    "## Task 3\n",
    "#### Student Name: Pallavi Kollipara\n",
    "#### Student ID: s4015344\n",
    "\n",
    "Date: 25-04-24\n",
    "\n",
    "Version: 1.0\n",
    "\n",
    "Environment: Python 3 and Jupyter notebook\n",
    "\n",
    "Libraries used: please include the main libraries you used in your assignment, e.g.,:\n",
    "* pandas\n",
    "* re\n",
    "* datetime\n",
    "* numpy\n",
    "\n",
    "\n",
    "## Introduction\n",
    "\n",
    "In this integration task, I first identified schema conflicts between the dataset from Task 2 (s4015344_dataset1_solution.csv) and the dataset from the current task (s4015344_dataset2.csv). To resolve these conflicts, I renamed all the required columns in s4015344_dataset2.csv to match the column names in s4015344_dataset1_solution.csv.\n",
    "\n",
    "After renaming the columns, I ensured that both datasets contained the same data types for corresponding columns.\n",
    "\n",
    "Next, I merged the two datasets (df1 and df2). Following the merge, I checked for duplicate records to ensure that the integrated dataset contained only unique records.\n",
    "\n",
    "Finally, I converted the integrated DataFrame into a CSV file named s4015344_dataset_integrated.csv for further analysis and use. This process ensures that the integrated dataset maintains data consistency and accuracy while combining information from multiple sources."
   ]
  },
  {
   "cell_type": "markdown",
   "metadata": {},
   "source": [
    "##  Import libraries "
   ]
  },
  {
   "cell_type": "code",
   "execution_count": 1,
   "metadata": {},
   "outputs": [],
   "source": [
    "# importing libraries\n",
    "import numpy as np\n",
    "import pandas as pd\n",
    "import datetime\n"
   ]
  },
  {
   "cell_type": "markdown",
   "metadata": {},
   "source": [
    "### 1. Examining and loading data\n",
    "Examine \"\\s4015344_dataset2.csv\" the structure and schema. "
   ]
  },
  {
   "cell_type": "code",
   "execution_count": 2,
   "metadata": {
    "scrolled": false
   },
   "outputs": [
    {
     "name": "stdout",
     "output_type": "stream",
     "text": [
      "S1:(50697, 11)\n"
     ]
    },
    {
     "data": {
      "text/html": [
       "<div>\n",
       "<style scoped>\n",
       "    .dataframe tbody tr th:only-of-type {\n",
       "        vertical-align: middle;\n",
       "    }\n",
       "\n",
       "    .dataframe tbody tr th {\n",
       "        vertical-align: top;\n",
       "    }\n",
       "\n",
       "    .dataframe thead th {\n",
       "        text-align: right;\n",
       "    }\n",
       "</style>\n",
       "<table border=\"1\" class=\"dataframe\">\n",
       "  <thead>\n",
       "    <tr style=\"text-align: right;\">\n",
       "      <th></th>\n",
       "      <th>Id</th>\n",
       "      <th>Title</th>\n",
       "      <th>Location</th>\n",
       "      <th>Company</th>\n",
       "      <th>ContractType</th>\n",
       "      <th>ContractTime</th>\n",
       "      <th>Category</th>\n",
       "      <th>Salary</th>\n",
       "      <th>OpenDate</th>\n",
       "      <th>CloseDate</th>\n",
       "      <th>SourceName</th>\n",
       "    </tr>\n",
       "  </thead>\n",
       "  <tbody>\n",
       "    <tr>\n",
       "      <th>0</th>\n",
       "      <td>69747285</td>\n",
       "      <td>science teacher  sundays</td>\n",
       "      <td>west london</td>\n",
       "      <td>trust education</td>\n",
       "      <td>part_time</td>\n",
       "      <td>non-specified</td>\n",
       "      <td>Teaching Jobs</td>\n",
       "      <td>25400.0</td>\n",
       "      <td>2012-09-17 15:00:00</td>\n",
       "      <td>2012-10-17 15:00:00</td>\n",
       "      <td>cv-library.co.uk</td>\n",
       "    </tr>\n",
       "    <tr>\n",
       "      <th>1</th>\n",
       "      <td>69022397</td>\n",
       "      <td>it support/rollout engineer</td>\n",
       "      <td>sheffield</td>\n",
       "      <td>matchtech group plc</td>\n",
       "      <td>non-specified</td>\n",
       "      <td>contract</td>\n",
       "      <td>IT Jobs</td>\n",
       "      <td>14400.0</td>\n",
       "      <td>2013-09-27 00:00:00</td>\n",
       "      <td>2013-10-27 00:00:00</td>\n",
       "      <td>cv-library.co.uk</td>\n",
       "    </tr>\n",
       "    <tr>\n",
       "      <th>2</th>\n",
       "      <td>69932721</td>\n",
       "      <td>electronics reliability analysis engineer</td>\n",
       "      <td>uk</td>\n",
       "      <td>innovate recruitment ltd</td>\n",
       "      <td>non-specified</td>\n",
       "      <td>permanent</td>\n",
       "      <td>Engineering Jobs</td>\n",
       "      <td>29000.0</td>\n",
       "      <td>2012-11-15 12:00:00</td>\n",
       "      <td>2013-02-13 12:00:00</td>\n",
       "      <td>cv-library.co.uk</td>\n",
       "    </tr>\n",
       "    <tr>\n",
       "      <th>3</th>\n",
       "      <td>67019364</td>\n",
       "      <td>project / planning coordinator</td>\n",
       "      <td>ely</td>\n",
       "      <td>i4 recruitment</td>\n",
       "      <td>non-specified</td>\n",
       "      <td>permanent</td>\n",
       "      <td>Engineering Jobs</td>\n",
       "      <td>21500.0</td>\n",
       "      <td>2012-04-26 15:00:00</td>\n",
       "      <td>2012-06-25 15:00:00</td>\n",
       "      <td>cv-library.co.uk</td>\n",
       "    </tr>\n",
       "    <tr>\n",
       "      <th>4</th>\n",
       "      <td>67903542</td>\n",
       "      <td>solutions architect ccnp ccip ccie</td>\n",
       "      <td>reading</td>\n",
       "      <td>jam recruitment ltd</td>\n",
       "      <td>non-specified</td>\n",
       "      <td>permanent</td>\n",
       "      <td>IT Jobs</td>\n",
       "      <td>55000.0</td>\n",
       "      <td>2013-12-19 15:00:00</td>\n",
       "      <td>2014-02-17 15:00:00</td>\n",
       "      <td>cv-library.co.uk</td>\n",
       "    </tr>\n",
       "  </tbody>\n",
       "</table>\n",
       "</div>"
      ],
      "text/plain": [
       "         Id                                      Title     Location  \\\n",
       "0  69747285                   science teacher  sundays  west london   \n",
       "1  69022397                it support/rollout engineer    sheffield   \n",
       "2  69932721  electronics reliability analysis engineer           uk   \n",
       "3  67019364             project / planning coordinator          ely   \n",
       "4  67903542         solutions architect ccnp ccip ccie      reading   \n",
       "\n",
       "                    Company   ContractType   ContractTime          Category  \\\n",
       "0           trust education      part_time  non-specified     Teaching Jobs   \n",
       "1       matchtech group plc  non-specified       contract           IT Jobs   \n",
       "2  innovate recruitment ltd  non-specified      permanent  Engineering Jobs   \n",
       "3            i4 recruitment  non-specified      permanent  Engineering Jobs   \n",
       "4       jam recruitment ltd  non-specified      permanent           IT Jobs   \n",
       "\n",
       "    Salary             OpenDate            CloseDate        SourceName  \n",
       "0  25400.0  2012-09-17 15:00:00  2012-10-17 15:00:00  cv-library.co.uk  \n",
       "1  14400.0  2013-09-27 00:00:00  2013-10-27 00:00:00  cv-library.co.uk  \n",
       "2  29000.0  2012-11-15 12:00:00  2013-02-13 12:00:00  cv-library.co.uk  \n",
       "3  21500.0  2012-04-26 15:00:00  2012-06-25 15:00:00  cv-library.co.uk  \n",
       "4  55000.0  2013-12-19 15:00:00  2014-02-17 15:00:00  cv-library.co.uk  "
      ]
     },
     "metadata": {},
     "output_type": "display_data"
    },
    {
     "name": "stdout",
     "output_type": "stream",
     "text": [
      "S2:(5000, 9)\n"
     ]
    },
    {
     "data": {
      "text/html": [
       "<div>\n",
       "<style scoped>\n",
       "    .dataframe tbody tr th:only-of-type {\n",
       "        vertical-align: middle;\n",
       "    }\n",
       "\n",
       "    .dataframe tbody tr th {\n",
       "        vertical-align: top;\n",
       "    }\n",
       "\n",
       "    .dataframe thead th {\n",
       "        text-align: right;\n",
       "    }\n",
       "</style>\n",
       "<table border=\"1\" class=\"dataframe\">\n",
       "  <thead>\n",
       "    <tr style=\"text-align: right;\">\n",
       "      <th></th>\n",
       "      <th>Job Title</th>\n",
       "      <th>Organisation</th>\n",
       "      <th>Monthly Payment</th>\n",
       "      <th>Contract Type</th>\n",
       "      <th>Category</th>\n",
       "      <th>Closing</th>\n",
       "      <th>Location</th>\n",
       "      <th>Full-Time Equivalent (FTE)</th>\n",
       "      <th>Opening</th>\n",
       "    </tr>\n",
       "  </thead>\n",
       "  <tbody>\n",
       "    <tr>\n",
       "      <th>0</th>\n",
       "      <td>Nursing Home Manager  Thames Ditton</td>\n",
       "      <td>Liquid Personnel Ltd</td>\n",
       "      <td>2750.00</td>\n",
       "      <td>NaN</td>\n",
       "      <td>Healthcare and Nursing</td>\n",
       "      <td>2013-02-22 15:00:00</td>\n",
       "      <td>Thames Ditton</td>\n",
       "      <td>FULL TIME</td>\n",
       "      <td>2012-12-24 15:00:00</td>\n",
       "    </tr>\n",
       "    <tr>\n",
       "      <th>1</th>\n",
       "      <td>Deputy Manager  Nursing Home  RGN  Shrewsbury</td>\n",
       "      <td>Liquid Personnel Ltd</td>\n",
       "      <td>2583.33</td>\n",
       "      <td>NaN</td>\n",
       "      <td>Healthcare and Nursing</td>\n",
       "      <td>2012-11-14 15:00:00</td>\n",
       "      <td>Shrewsbury</td>\n",
       "      <td>FULL TIME</td>\n",
       "      <td>2012-10-15 15:00:00</td>\n",
       "    </tr>\n",
       "    <tr>\n",
       "      <th>2</th>\n",
       "      <td>Deputy Manager  Nursing Home (RGN)  London</td>\n",
       "      <td>Liquid Personnel Ltd</td>\n",
       "      <td>3000.00</td>\n",
       "      <td>NaN</td>\n",
       "      <td>Healthcare and Nursing</td>\n",
       "      <td>2012-12-08 00:00:00</td>\n",
       "      <td>London</td>\n",
       "      <td>FULL TIME</td>\n",
       "      <td>2012-11-08 00:00:00</td>\n",
       "    </tr>\n",
       "    <tr>\n",
       "      <th>3</th>\n",
       "      <td>Deputy Manager (RGN)  Nursing Home  Bristol</td>\n",
       "      <td>Liquid Personnel Ltd</td>\n",
       "      <td>2791.67</td>\n",
       "      <td>NaN</td>\n",
       "      <td>Healthcare and Nursing</td>\n",
       "      <td>2013-01-13 15:00:00</td>\n",
       "      <td>Bristol</td>\n",
       "      <td>FULL TIME</td>\n",
       "      <td>2012-11-14 15:00:00</td>\n",
       "    </tr>\n",
       "    <tr>\n",
       "      <th>4</th>\n",
       "      <td>RGN or RMN  Wigan</td>\n",
       "      <td>Eden Brown</td>\n",
       "      <td>2240.00</td>\n",
       "      <td>NaN</td>\n",
       "      <td>Healthcare and Nursing</td>\n",
       "      <td>2013-01-24 15:00:00</td>\n",
       "      <td>Wigan</td>\n",
       "      <td>FULL TIME</td>\n",
       "      <td>2012-11-25 15:00:00</td>\n",
       "    </tr>\n",
       "  </tbody>\n",
       "</table>\n",
       "</div>"
      ],
      "text/plain": [
       "                                       Job Title          Organisation  \\\n",
       "0            Nursing Home Manager  Thames Ditton  Liquid Personnel Ltd   \n",
       "1  Deputy Manager  Nursing Home  RGN  Shrewsbury  Liquid Personnel Ltd   \n",
       "2     Deputy Manager  Nursing Home (RGN)  London  Liquid Personnel Ltd   \n",
       "3    Deputy Manager (RGN)  Nursing Home  Bristol  Liquid Personnel Ltd   \n",
       "4                              RGN or RMN  Wigan            Eden Brown   \n",
       "\n",
       "   Monthly Payment Contract Type                Category              Closing  \\\n",
       "0          2750.00           NaN  Healthcare and Nursing  2013-02-22 15:00:00   \n",
       "1          2583.33           NaN  Healthcare and Nursing  2012-11-14 15:00:00   \n",
       "2          3000.00           NaN  Healthcare and Nursing  2012-12-08 00:00:00   \n",
       "3          2791.67           NaN  Healthcare and Nursing  2013-01-13 15:00:00   \n",
       "4          2240.00           NaN  Healthcare and Nursing  2013-01-24 15:00:00   \n",
       "\n",
       "        Location Full-Time Equivalent (FTE)              Opening  \n",
       "0  Thames Ditton                  FULL TIME  2012-12-24 15:00:00  \n",
       "1     Shrewsbury                  FULL TIME  2012-10-15 15:00:00  \n",
       "2         London                  FULL TIME  2012-11-08 00:00:00  \n",
       "3        Bristol                  FULL TIME  2012-11-14 15:00:00  \n",
       "4          Wigan                  FULL TIME  2012-11-25 15:00:00  "
      ]
     },
     "metadata": {},
     "output_type": "display_data"
    }
   ],
   "source": [
    "\n",
    "# read in two data set\n",
    "df1 = pd.read_csv('s4015344_dataset1_solution.csv')\n",
    "df2 = pd.read_csv('s4015344_dataset2.csv')\n",
    "# Display two dataframes together to compare\n",
    "print('S1:' + str(df1.shape))\n",
    "display(df1.head())\n",
    "print('S2:' + str(df2.shape))\n",
    "display(df2.head())\n"
   ]
  },
  {
   "cell_type": "code",
   "execution_count": 3,
   "metadata": {},
   "outputs": [
    {
     "name": "stdout",
     "output_type": "stream",
     "text": [
      "<class 'pandas.core.frame.DataFrame'>\n",
      "RangeIndex: 50697 entries, 0 to 50696\n",
      "Data columns (total 11 columns):\n",
      " #   Column        Non-Null Count  Dtype  \n",
      "---  ------        --------------  -----  \n",
      " 0   Id            50697 non-null  int64  \n",
      " 1   Title         50697 non-null  object \n",
      " 2   Location      50697 non-null  object \n",
      " 3   Company       50528 non-null  object \n",
      " 4   ContractType  50697 non-null  object \n",
      " 5   ContractTime  50697 non-null  object \n",
      " 6   Category      50697 non-null  object \n",
      " 7   Salary        50697 non-null  float64\n",
      " 8   OpenDate      50697 non-null  object \n",
      " 9   CloseDate     50697 non-null  object \n",
      " 10  SourceName    50697 non-null  object \n",
      "dtypes: float64(1), int64(1), object(9)\n",
      "memory usage: 4.3+ MB\n",
      "None\n",
      "<class 'pandas.core.frame.DataFrame'>\n",
      "RangeIndex: 5000 entries, 0 to 4999\n",
      "Data columns (total 9 columns):\n",
      " #   Column                      Non-Null Count  Dtype  \n",
      "---  ------                      --------------  -----  \n",
      " 0   Job Title                   5000 non-null   object \n",
      " 1   Organisation                4937 non-null   object \n",
      " 2   Monthly Payment             5000 non-null   float64\n",
      " 3   Contract Type               4312 non-null   object \n",
      " 4   Category                    5000 non-null   object \n",
      " 5   Closing                     5000 non-null   object \n",
      " 6   Location                    5000 non-null   object \n",
      " 7   Full-Time Equivalent (FTE)  643 non-null    object \n",
      " 8   Opening                     5000 non-null   object \n",
      "dtypes: float64(1), object(8)\n",
      "memory usage: 351.7+ KB\n",
      "None\n"
     ]
    }
   ],
   "source": [
    "print (df1.info())\n",
    "print (df2.info())"
   ]
  },
  {
   "cell_type": "markdown",
   "metadata": {},
   "source": [
    "### 2. Resolving schema conflicts\n",
    "\n"
   ]
  },
  {
   "cell_type": "markdown",
   "metadata": {},
   "source": [
    "\n",
    "#### Conflict 1: Monthly Payment \n",
    "\n",
    "We're handling monthly payments in one dataset df1, while the other dataset df2 has a similar column called \"Salary,\" which is based on a yearly basis. To align these columns, I've converted the monthly payments to yearly payments by multiplying them by 12. Then, I renamed the column to \"Salary\" for consistency.\n"
   ]
  },
  {
   "cell_type": "code",
   "execution_count": 4,
   "metadata": {
    "scrolled": false
   },
   "outputs": [
    {
     "data": {
      "text/html": [
       "<div>\n",
       "<style scoped>\n",
       "    .dataframe tbody tr th:only-of-type {\n",
       "        vertical-align: middle;\n",
       "    }\n",
       "\n",
       "    .dataframe tbody tr th {\n",
       "        vertical-align: top;\n",
       "    }\n",
       "\n",
       "    .dataframe thead th {\n",
       "        text-align: right;\n",
       "    }\n",
       "</style>\n",
       "<table border=\"1\" class=\"dataframe\">\n",
       "  <thead>\n",
       "    <tr style=\"text-align: right;\">\n",
       "      <th></th>\n",
       "      <th>Job Title</th>\n",
       "      <th>Organisation</th>\n",
       "      <th>Monthly Payment</th>\n",
       "      <th>Contract Type</th>\n",
       "      <th>Category</th>\n",
       "      <th>Closing</th>\n",
       "      <th>Location</th>\n",
       "      <th>Full-Time Equivalent (FTE)</th>\n",
       "      <th>Opening</th>\n",
       "    </tr>\n",
       "  </thead>\n",
       "  <tbody>\n",
       "    <tr>\n",
       "      <th>0</th>\n",
       "      <td>Nursing Home Manager  Thames Ditton</td>\n",
       "      <td>Liquid Personnel Ltd</td>\n",
       "      <td>33000.00</td>\n",
       "      <td>NaN</td>\n",
       "      <td>Healthcare and Nursing</td>\n",
       "      <td>2013-02-22 15:00:00</td>\n",
       "      <td>Thames Ditton</td>\n",
       "      <td>FULL TIME</td>\n",
       "      <td>2012-12-24 15:00:00</td>\n",
       "    </tr>\n",
       "    <tr>\n",
       "      <th>1</th>\n",
       "      <td>Deputy Manager  Nursing Home  RGN  Shrewsbury</td>\n",
       "      <td>Liquid Personnel Ltd</td>\n",
       "      <td>30999.96</td>\n",
       "      <td>NaN</td>\n",
       "      <td>Healthcare and Nursing</td>\n",
       "      <td>2012-11-14 15:00:00</td>\n",
       "      <td>Shrewsbury</td>\n",
       "      <td>FULL TIME</td>\n",
       "      <td>2012-10-15 15:00:00</td>\n",
       "    </tr>\n",
       "    <tr>\n",
       "      <th>2</th>\n",
       "      <td>Deputy Manager  Nursing Home (RGN)  London</td>\n",
       "      <td>Liquid Personnel Ltd</td>\n",
       "      <td>36000.00</td>\n",
       "      <td>NaN</td>\n",
       "      <td>Healthcare and Nursing</td>\n",
       "      <td>2012-12-08 00:00:00</td>\n",
       "      <td>London</td>\n",
       "      <td>FULL TIME</td>\n",
       "      <td>2012-11-08 00:00:00</td>\n",
       "    </tr>\n",
       "    <tr>\n",
       "      <th>3</th>\n",
       "      <td>Deputy Manager (RGN)  Nursing Home  Bristol</td>\n",
       "      <td>Liquid Personnel Ltd</td>\n",
       "      <td>33500.04</td>\n",
       "      <td>NaN</td>\n",
       "      <td>Healthcare and Nursing</td>\n",
       "      <td>2013-01-13 15:00:00</td>\n",
       "      <td>Bristol</td>\n",
       "      <td>FULL TIME</td>\n",
       "      <td>2012-11-14 15:00:00</td>\n",
       "    </tr>\n",
       "    <tr>\n",
       "      <th>4</th>\n",
       "      <td>RGN or RMN  Wigan</td>\n",
       "      <td>Eden Brown</td>\n",
       "      <td>26880.00</td>\n",
       "      <td>NaN</td>\n",
       "      <td>Healthcare and Nursing</td>\n",
       "      <td>2013-01-24 15:00:00</td>\n",
       "      <td>Wigan</td>\n",
       "      <td>FULL TIME</td>\n",
       "      <td>2012-11-25 15:00:00</td>\n",
       "    </tr>\n",
       "  </tbody>\n",
       "</table>\n",
       "</div>"
      ],
      "text/plain": [
       "                                       Job Title          Organisation  \\\n",
       "0            Nursing Home Manager  Thames Ditton  Liquid Personnel Ltd   \n",
       "1  Deputy Manager  Nursing Home  RGN  Shrewsbury  Liquid Personnel Ltd   \n",
       "2     Deputy Manager  Nursing Home (RGN)  London  Liquid Personnel Ltd   \n",
       "3    Deputy Manager (RGN)  Nursing Home  Bristol  Liquid Personnel Ltd   \n",
       "4                              RGN or RMN  Wigan            Eden Brown   \n",
       "\n",
       "   Monthly Payment Contract Type                Category              Closing  \\\n",
       "0         33000.00           NaN  Healthcare and Nursing  2013-02-22 15:00:00   \n",
       "1         30999.96           NaN  Healthcare and Nursing  2012-11-14 15:00:00   \n",
       "2         36000.00           NaN  Healthcare and Nursing  2012-12-08 00:00:00   \n",
       "3         33500.04           NaN  Healthcare and Nursing  2013-01-13 15:00:00   \n",
       "4         26880.00           NaN  Healthcare and Nursing  2013-01-24 15:00:00   \n",
       "\n",
       "        Location Full-Time Equivalent (FTE)              Opening  \n",
       "0  Thames Ditton                  FULL TIME  2012-12-24 15:00:00  \n",
       "1     Shrewsbury                  FULL TIME  2012-10-15 15:00:00  \n",
       "2         London                  FULL TIME  2012-11-08 00:00:00  \n",
       "3        Bristol                  FULL TIME  2012-11-14 15:00:00  \n",
       "4          Wigan                  FULL TIME  2012-11-25 15:00:00  "
      ]
     },
     "execution_count": 4,
     "metadata": {},
     "output_type": "execute_result"
    }
   ],
   "source": [
    "# Code to inspect data and identify conflicts in schema\n",
    "# Assuming 'Monthly Payment' column contains the monthly payment values\n",
    "df2['Monthly Payment'] = df2['Monthly Payment'] * 12\n",
    "df2.head()"
   ]
  },
  {
   "cell_type": "code",
   "execution_count": 5,
   "metadata": {},
   "outputs": [],
   "source": [
    "df2.rename(columns = {'Monthly Payment':'Salary'}, inplace = True)"
   ]
  },
  {
   "cell_type": "markdown",
   "metadata": {},
   "source": [
    "#### Renamed the columns\n",
    "\n",
    "I've updated the column names in DataFrame 2 to match those in DataFrame 1. Specifically, I renamed the columns \"Opening,\" \"Closing,\" \"Job Title,\" \"Organisation,\" \"Contract Type,\" and \"Full-Time Equivalent (FTE)\" to align with the corresponding columns in DataFrame 1."
   ]
  },
  {
   "cell_type": "code",
   "execution_count": 6,
   "metadata": {},
   "outputs": [],
   "source": [
    "df2.rename(columns = {'Opening':'OpenDate'}, inplace = True)\n",
    "df2.rename(columns = {'Closing':'CloseDate'}, inplace = True)\n",
    "df2.rename(columns = {'Job Title':'Title'}, inplace = True)\n",
    "df2.rename(columns = {'Organisation':'Company'}, inplace = True)\n",
    "df2.rename(columns = {'Contract Type':'ContractTime'}, inplace = True)\n",
    "df2.rename(columns = {'Full-Time Equivalent (FTE)':'ContractType'}, inplace = True)"
   ]
  },
  {
   "cell_type": "markdown",
   "metadata": {},
   "source": [
    "\n",
    "#### Conflict 2: ContractTime\n",
    "\n",
    "\n",
    "I've modified the values in the \"Contract Type\" column of DataFrame 2 to change \"Fixed Term Contract\" to \"contract\" and \"Permanent\" to \"permanent\" with a lowercase \"p.\" This adjustment ensures consistency with DataFrame 1. And fixed null values by giving as non-specified."
   ]
  },
  {
   "cell_type": "code",
   "execution_count": 7,
   "metadata": {},
   "outputs": [
    {
     "data": {
      "text/plain": [
       "array([nan, 'Permanent', 'Fixed Term Contract'], dtype=object)"
      ]
     },
     "execution_count": 7,
     "metadata": {},
     "output_type": "execute_result"
    }
   ],
   "source": [
    "df2['ContractTime'].unique()"
   ]
  },
  {
   "cell_type": "code",
   "execution_count": 8,
   "metadata": {},
   "outputs": [],
   "source": [
    "df2['ContractTime'] = df2['ContractTime'].replace('Fixed Term Contract', 'contract')\n",
    "df2['ContractTime'] = df2['ContractTime'].replace('Permanent', 'permanent')"
   ]
  },
  {
   "cell_type": "code",
   "execution_count": 9,
   "metadata": {},
   "outputs": [],
   "source": [
    "df2['ContractTime'] = df2['ContractTime'].apply(lambda x: 'non-specified' if pd.isnull(x) else x)\n"
   ]
  },
  {
   "cell_type": "markdown",
   "metadata": {},
   "source": [
    "\n",
    "#### Conflict 3: ContractType\n",
    "\n",
    "In DataFrame 2, I've replaced \"FULL TIME\" with \"full_time\" and any records containing the pattern \"FTE\" with \"part_time\" to maintain consistency with DataFrame 1. And fixed null values by giving as non-specified."
   ]
  },
  {
   "cell_type": "code",
   "execution_count": 10,
   "metadata": {},
   "outputs": [
    {
     "data": {
      "text/plain": [
       "array(['FULL TIME', '0.6 FTE', '0.2 FTE', nan, '0.8 FTE', '0.4 FTE'],\n",
       "      dtype=object)"
      ]
     },
     "execution_count": 10,
     "metadata": {},
     "output_type": "execute_result"
    }
   ],
   "source": [
    "df2['ContractType'].unique()"
   ]
  },
  {
   "cell_type": "code",
   "execution_count": 11,
   "metadata": {},
   "outputs": [],
   "source": [
    "df2['ContractType'] = df2['ContractType'].apply(lambda x: 'non-specified' if pd.isnull(x) else x)"
   ]
  },
  {
   "cell_type": "code",
   "execution_count": 12,
   "metadata": {},
   "outputs": [],
   "source": [
    "pattern = r'0\\.[2468] FTE'\n",
    "# Replace 'FTE' with 'part_time' in those rows\n",
    "df2['ContractType'] = df2['ContractType'].replace(pattern, 'part_time', regex=True)\n"
   ]
  },
  {
   "cell_type": "code",
   "execution_count": 13,
   "metadata": {},
   "outputs": [],
   "source": [
    "df2['ContractType'] = df2['ContractType'].replace('FULL TIME', 'full_time')\n"
   ]
  },
  {
   "cell_type": "code",
   "execution_count": 14,
   "metadata": {},
   "outputs": [
    {
     "data": {
      "text/html": [
       "<div>\n",
       "<style scoped>\n",
       "    .dataframe tbody tr th:only-of-type {\n",
       "        vertical-align: middle;\n",
       "    }\n",
       "\n",
       "    .dataframe tbody tr th {\n",
       "        vertical-align: top;\n",
       "    }\n",
       "\n",
       "    .dataframe thead th {\n",
       "        text-align: right;\n",
       "    }\n",
       "</style>\n",
       "<table border=\"1\" class=\"dataframe\">\n",
       "  <thead>\n",
       "    <tr style=\"text-align: right;\">\n",
       "      <th></th>\n",
       "      <th>Title</th>\n",
       "      <th>Company</th>\n",
       "      <th>Salary</th>\n",
       "      <th>ContractTime</th>\n",
       "      <th>Category</th>\n",
       "      <th>CloseDate</th>\n",
       "      <th>Location</th>\n",
       "      <th>ContractType</th>\n",
       "      <th>OpenDate</th>\n",
       "    </tr>\n",
       "  </thead>\n",
       "  <tbody>\n",
       "    <tr>\n",
       "      <th>0</th>\n",
       "      <td>Nursing Home Manager  Thames Ditton</td>\n",
       "      <td>Liquid Personnel Ltd</td>\n",
       "      <td>33000.00</td>\n",
       "      <td>non-specified</td>\n",
       "      <td>Healthcare and Nursing</td>\n",
       "      <td>2013-02-22 15:00:00</td>\n",
       "      <td>Thames Ditton</td>\n",
       "      <td>full_time</td>\n",
       "      <td>2012-12-24 15:00:00</td>\n",
       "    </tr>\n",
       "    <tr>\n",
       "      <th>1</th>\n",
       "      <td>Deputy Manager  Nursing Home  RGN  Shrewsbury</td>\n",
       "      <td>Liquid Personnel Ltd</td>\n",
       "      <td>30999.96</td>\n",
       "      <td>non-specified</td>\n",
       "      <td>Healthcare and Nursing</td>\n",
       "      <td>2012-11-14 15:00:00</td>\n",
       "      <td>Shrewsbury</td>\n",
       "      <td>full_time</td>\n",
       "      <td>2012-10-15 15:00:00</td>\n",
       "    </tr>\n",
       "    <tr>\n",
       "      <th>2</th>\n",
       "      <td>Deputy Manager  Nursing Home (RGN)  London</td>\n",
       "      <td>Liquid Personnel Ltd</td>\n",
       "      <td>36000.00</td>\n",
       "      <td>non-specified</td>\n",
       "      <td>Healthcare and Nursing</td>\n",
       "      <td>2012-12-08 00:00:00</td>\n",
       "      <td>London</td>\n",
       "      <td>full_time</td>\n",
       "      <td>2012-11-08 00:00:00</td>\n",
       "    </tr>\n",
       "    <tr>\n",
       "      <th>3</th>\n",
       "      <td>Deputy Manager (RGN)  Nursing Home  Bristol</td>\n",
       "      <td>Liquid Personnel Ltd</td>\n",
       "      <td>33500.04</td>\n",
       "      <td>non-specified</td>\n",
       "      <td>Healthcare and Nursing</td>\n",
       "      <td>2013-01-13 15:00:00</td>\n",
       "      <td>Bristol</td>\n",
       "      <td>full_time</td>\n",
       "      <td>2012-11-14 15:00:00</td>\n",
       "    </tr>\n",
       "    <tr>\n",
       "      <th>4</th>\n",
       "      <td>RGN or RMN  Wigan</td>\n",
       "      <td>Eden Brown</td>\n",
       "      <td>26880.00</td>\n",
       "      <td>non-specified</td>\n",
       "      <td>Healthcare and Nursing</td>\n",
       "      <td>2013-01-24 15:00:00</td>\n",
       "      <td>Wigan</td>\n",
       "      <td>full_time</td>\n",
       "      <td>2012-11-25 15:00:00</td>\n",
       "    </tr>\n",
       "  </tbody>\n",
       "</table>\n",
       "</div>"
      ],
      "text/plain": [
       "                                           Title               Company  \\\n",
       "0            Nursing Home Manager  Thames Ditton  Liquid Personnel Ltd   \n",
       "1  Deputy Manager  Nursing Home  RGN  Shrewsbury  Liquid Personnel Ltd   \n",
       "2     Deputy Manager  Nursing Home (RGN)  London  Liquid Personnel Ltd   \n",
       "3    Deputy Manager (RGN)  Nursing Home  Bristol  Liquid Personnel Ltd   \n",
       "4                              RGN or RMN  Wigan            Eden Brown   \n",
       "\n",
       "     Salary   ContractTime                Category            CloseDate  \\\n",
       "0  33000.00  non-specified  Healthcare and Nursing  2013-02-22 15:00:00   \n",
       "1  30999.96  non-specified  Healthcare and Nursing  2012-11-14 15:00:00   \n",
       "2  36000.00  non-specified  Healthcare and Nursing  2012-12-08 00:00:00   \n",
       "3  33500.04  non-specified  Healthcare and Nursing  2013-01-13 15:00:00   \n",
       "4  26880.00  non-specified  Healthcare and Nursing  2013-01-24 15:00:00   \n",
       "\n",
       "        Location ContractType             OpenDate  \n",
       "0  Thames Ditton    full_time  2012-12-24 15:00:00  \n",
       "1     Shrewsbury    full_time  2012-10-15 15:00:00  \n",
       "2         London    full_time  2012-11-08 00:00:00  \n",
       "3        Bristol    full_time  2012-11-14 15:00:00  \n",
       "4          Wigan    full_time  2012-11-25 15:00:00  "
      ]
     },
     "execution_count": 14,
     "metadata": {},
     "output_type": "execute_result"
    }
   ],
   "source": [
    "df2.head()"
   ]
  },
  {
   "cell_type": "markdown",
   "metadata": {},
   "source": [
    "\n",
    "#### Conflict 4: Id\n",
    "\n",
    "I've created an \"ID\" column in DataFrame 2 since it was missing, and this ID column acts as a primary key for the dataset, ensuring consistency with DataFrame 1 before or after merging."
   ]
  },
  {
   "cell_type": "code",
   "execution_count": 15,
   "metadata": {},
   "outputs": [],
   "source": [
    "\n",
    "# Assuming df is your DataFrame\n",
    "#df2['Id'] = np.random.randint(10000, 99999, size=len(df2))\n",
    "num_rows = len(df2)\n",
    "df2['Id'] = range(10000, 10000 + num_rows)"
   ]
  },
  {
   "cell_type": "code",
   "execution_count": 16,
   "metadata": {},
   "outputs": [
    {
     "name": "stdout",
     "output_type": "stream",
     "text": [
      "<class 'pandas.core.frame.DataFrame'>\n",
      "RangeIndex: 50697 entries, 0 to 50696\n",
      "Data columns (total 11 columns):\n",
      " #   Column        Non-Null Count  Dtype  \n",
      "---  ------        --------------  -----  \n",
      " 0   Id            50697 non-null  int64  \n",
      " 1   Title         50697 non-null  object \n",
      " 2   Location      50697 non-null  object \n",
      " 3   Company       50528 non-null  object \n",
      " 4   ContractType  50697 non-null  object \n",
      " 5   ContractTime  50697 non-null  object \n",
      " 6   Category      50697 non-null  object \n",
      " 7   Salary        50697 non-null  float64\n",
      " 8   OpenDate      50697 non-null  object \n",
      " 9   CloseDate     50697 non-null  object \n",
      " 10  SourceName    50697 non-null  object \n",
      "dtypes: float64(1), int64(1), object(9)\n",
      "memory usage: 4.3+ MB\n",
      "<class 'pandas.core.frame.DataFrame'>\n",
      "RangeIndex: 5000 entries, 0 to 4999\n",
      "Data columns (total 10 columns):\n",
      " #   Column        Non-Null Count  Dtype  \n",
      "---  ------        --------------  -----  \n",
      " 0   Title         5000 non-null   object \n",
      " 1   Company       4937 non-null   object \n",
      " 2   Salary        5000 non-null   float64\n",
      " 3   ContractTime  5000 non-null   object \n",
      " 4   Category      5000 non-null   object \n",
      " 5   CloseDate     5000 non-null   object \n",
      " 6   Location      5000 non-null   object \n",
      " 7   ContractType  5000 non-null   object \n",
      " 8   OpenDate      5000 non-null   object \n",
      " 9   Id            5000 non-null   int64  \n",
      "dtypes: float64(1), int64(1), object(8)\n",
      "memory usage: 390.8+ KB\n"
     ]
    }
   ],
   "source": [
    "df1.info()\n",
    "df2.info()"
   ]
  },
  {
   "cell_type": "markdown",
   "metadata": {},
   "source": [
    "\n",
    "#### Conflict 4: Company\n",
    "\n",
    "In DataFrame 2, I've replaced the null values in the company with non-specified."
   ]
  },
  {
   "cell_type": "code",
   "execution_count": 17,
   "metadata": {},
   "outputs": [],
   "source": [
    "df2['Company'] = df2['Company'].apply(lambda x: 'non-specified' if pd.isnull(x) else x)"
   ]
  },
  {
   "cell_type": "markdown",
   "metadata": {},
   "source": [
    "Dropped the column SourceName in the df1 because of the schema conflict"
   ]
  },
  {
   "cell_type": "code",
   "execution_count": 18,
   "metadata": {},
   "outputs": [],
   "source": [
    "df1.drop(columns=['SourceName'], inplace=True)\n"
   ]
  },
  {
   "cell_type": "code",
   "execution_count": 19,
   "metadata": {},
   "outputs": [
    {
     "name": "stdout",
     "output_type": "stream",
     "text": [
      "<class 'pandas.core.frame.DataFrame'>\n",
      "RangeIndex: 50697 entries, 0 to 50696\n",
      "Data columns (total 10 columns):\n",
      " #   Column        Non-Null Count  Dtype  \n",
      "---  ------        --------------  -----  \n",
      " 0   Id            50697 non-null  int64  \n",
      " 1   Title         50697 non-null  object \n",
      " 2   Location      50697 non-null  object \n",
      " 3   Company       50528 non-null  object \n",
      " 4   ContractType  50697 non-null  object \n",
      " 5   ContractTime  50697 non-null  object \n",
      " 6   Category      50697 non-null  object \n",
      " 7   Salary        50697 non-null  float64\n",
      " 8   OpenDate      50697 non-null  object \n",
      " 9   CloseDate     50697 non-null  object \n",
      "dtypes: float64(1), int64(1), object(8)\n",
      "memory usage: 3.9+ MB\n"
     ]
    }
   ],
   "source": [
    "df1.info()"
   ]
  },
  {
   "cell_type": "markdown",
   "metadata": {},
   "source": [
    "Just do double checking on the data types and make them consistent between df1 and df2 before merging."
   ]
  },
  {
   "cell_type": "code",
   "execution_count": 20,
   "metadata": {},
   "outputs": [],
   "source": [
    "# now adapt the datatypes in S1 to match S2\n",
    "for y in [c for c in df1.columns if c in df2.columns]: # common columns\n",
    "    if df1[y].dtype != df2[y].dtype:\n",
    "        print (\"Column \" + y + \"in df1: \"+ str(df1[y].dtype) + \"to\" + str(df2[y].dtype))\n",
    "        df1[y] = df1[y].astype(df2[y].dtype) "
   ]
  },
  {
   "cell_type": "markdown",
   "metadata": {},
   "source": [
    "Seems all is consistent. \n",
    "Indeed, here, we have assumed a very simplistic case and we convert their formats one by one previously."
   ]
  },
  {
   "cell_type": "markdown",
   "metadata": {},
   "source": [
    "### 3. Merging data\n",
    "\n",
    "After resolving all conflicts, I merged DataFrames 1 and 2."
   ]
  },
  {
   "cell_type": "code",
   "execution_count": 21,
   "metadata": {},
   "outputs": [
    {
     "name": "stdout",
     "output_type": "stream",
     "text": [
      "(55697, 10)\n"
     ]
    },
    {
     "data": {
      "text/html": [
       "<div>\n",
       "<style scoped>\n",
       "    .dataframe tbody tr th:only-of-type {\n",
       "        vertical-align: middle;\n",
       "    }\n",
       "\n",
       "    .dataframe tbody tr th {\n",
       "        vertical-align: top;\n",
       "    }\n",
       "\n",
       "    .dataframe thead th {\n",
       "        text-align: right;\n",
       "    }\n",
       "</style>\n",
       "<table border=\"1\" class=\"dataframe\">\n",
       "  <thead>\n",
       "    <tr style=\"text-align: right;\">\n",
       "      <th></th>\n",
       "      <th>Id</th>\n",
       "      <th>Title</th>\n",
       "      <th>Location</th>\n",
       "      <th>Company</th>\n",
       "      <th>ContractType</th>\n",
       "      <th>ContractTime</th>\n",
       "      <th>Category</th>\n",
       "      <th>Salary</th>\n",
       "      <th>OpenDate</th>\n",
       "      <th>CloseDate</th>\n",
       "    </tr>\n",
       "  </thead>\n",
       "  <tbody>\n",
       "    <tr>\n",
       "      <th>44757</th>\n",
       "      <td>71171242</td>\n",
       "      <td>sales manager  online</td>\n",
       "      <td>uk</td>\n",
       "      <td>moriati media uk ltd</td>\n",
       "      <td>non-specified</td>\n",
       "      <td>non-specified</td>\n",
       "      <td>Sales Jobs</td>\n",
       "      <td>32500.00</td>\n",
       "      <td>2013-10-09 12:00:00</td>\n",
       "      <td>2013-10-23 12:00:00</td>\n",
       "    </tr>\n",
       "    <tr>\n",
       "      <th>31931</th>\n",
       "      <td>68293044</td>\n",
       "      <td>great opportunity for a sales executive  high ...</td>\n",
       "      <td>london</td>\n",
       "      <td>corecruitment international</td>\n",
       "      <td>non-specified</td>\n",
       "      <td>non-specified</td>\n",
       "      <td>Hospitality &amp; Catering Jobs</td>\n",
       "      <td>17000.00</td>\n",
       "      <td>2012-05-16 12:00:00</td>\n",
       "      <td>2012-06-15 12:00:00</td>\n",
       "    </tr>\n",
       "    <tr>\n",
       "      <th>27829</th>\n",
       "      <td>68067948</td>\n",
       "      <td>solar sales consultant  aberdeen</td>\n",
       "      <td>aberdeen</td>\n",
       "      <td>simplified recruitment</td>\n",
       "      <td>non-specified</td>\n",
       "      <td>permanent</td>\n",
       "      <td>Sales Jobs</td>\n",
       "      <td>50000.00</td>\n",
       "      <td>2012-05-26 00:00:00</td>\n",
       "      <td>2012-07-25 00:00:00</td>\n",
       "    </tr>\n",
       "    <tr>\n",
       "      <th>6572</th>\n",
       "      <td>67895295</td>\n",
       "      <td>internal sales exec</td>\n",
       "      <td>reading</td>\n",
       "      <td>calibre candidates</td>\n",
       "      <td>non-specified</td>\n",
       "      <td>permanent</td>\n",
       "      <td>Sales Jobs</td>\n",
       "      <td>23000.00</td>\n",
       "      <td>2013-06-02 12:00:00</td>\n",
       "      <td>2013-08-01 12:00:00</td>\n",
       "    </tr>\n",
       "    <tr>\n",
       "      <th>42306</th>\n",
       "      <td>68663472</td>\n",
       "      <td>technician  lancashire</td>\n",
       "      <td>lancashire</td>\n",
       "      <td>inspired selections</td>\n",
       "      <td>non-specified</td>\n",
       "      <td>non-specified</td>\n",
       "      <td>Healthcare &amp; Nursing Jobs</td>\n",
       "      <td>16000.00</td>\n",
       "      <td>2012-02-04 12:00:00</td>\n",
       "      <td>2012-03-05 12:00:00</td>\n",
       "    </tr>\n",
       "    <tr>\n",
       "      <th>42528</th>\n",
       "      <td>68847314</td>\n",
       "      <td>1st line  2nd line support technician / helpde...</td>\n",
       "      <td>the city</td>\n",
       "      <td>searchability  ltd</td>\n",
       "      <td>non-specified</td>\n",
       "      <td>permanent</td>\n",
       "      <td>IT Jobs</td>\n",
       "      <td>22500.00</td>\n",
       "      <td>2013-10-06 12:00:00</td>\n",
       "      <td>2013-11-05 12:00:00</td>\n",
       "    </tr>\n",
       "    <tr>\n",
       "      <th>41509</th>\n",
       "      <td>68591992</td>\n",
       "      <td>instrumentation &amp; electrical technicians</td>\n",
       "      <td>lincolnshire</td>\n",
       "      <td>ata recruitment</td>\n",
       "      <td>non-specified</td>\n",
       "      <td>non-specified</td>\n",
       "      <td>Engineering Jobs</td>\n",
       "      <td>30750.00</td>\n",
       "      <td>2013-01-12 12:00:00</td>\n",
       "      <td>2013-01-26 12:00:00</td>\n",
       "    </tr>\n",
       "    <tr>\n",
       "      <th>1555</th>\n",
       "      <td>11555</td>\n",
       "      <td>Power Generation CCGT Project Manager</td>\n",
       "      <td>West Yorkshire</td>\n",
       "      <td>Jarvis King Associates Ltd</td>\n",
       "      <td>non-specified</td>\n",
       "      <td>permanent</td>\n",
       "      <td>Engineering</td>\n",
       "      <td>54999.96</td>\n",
       "      <td>2012-10-18 12:00:00</td>\n",
       "      <td>2012-12-17 12:00:00</td>\n",
       "    </tr>\n",
       "    <tr>\n",
       "      <th>35160</th>\n",
       "      <td>69144881</td>\n",
       "      <td>mathematics nqt</td>\n",
       "      <td>west midlands</td>\n",
       "      <td>edustaff   birmingham</td>\n",
       "      <td>full_time</td>\n",
       "      <td>permanent</td>\n",
       "      <td>Teaching Jobs</td>\n",
       "      <td>23378.00</td>\n",
       "      <td>2012-05-16 12:00:00</td>\n",
       "      <td>2012-08-14 12:00:00</td>\n",
       "    </tr>\n",
       "    <tr>\n",
       "      <th>18628</th>\n",
       "      <td>68537757</td>\n",
       "      <td>health care assistant &amp; support worker  liverpool</td>\n",
       "      <td>liverpool</td>\n",
       "      <td>prestige nursing</td>\n",
       "      <td>full_time</td>\n",
       "      <td>non-specified</td>\n",
       "      <td>Healthcare &amp; Nursing Jobs</td>\n",
       "      <td>29376.00</td>\n",
       "      <td>2012-05-29 00:00:00</td>\n",
       "      <td>2012-07-28 00:00:00</td>\n",
       "    </tr>\n",
       "  </tbody>\n",
       "</table>\n",
       "</div>"
      ],
      "text/plain": [
       "             Id                                              Title  \\\n",
       "44757  71171242                              sales manager  online   \n",
       "31931  68293044  great opportunity for a sales executive  high ...   \n",
       "27829  68067948                   solar sales consultant  aberdeen   \n",
       "6572   67895295                                internal sales exec   \n",
       "42306  68663472                             technician  lancashire   \n",
       "42528  68847314  1st line  2nd line support technician / helpde...   \n",
       "41509  68591992           instrumentation & electrical technicians   \n",
       "1555      11555              Power Generation CCGT Project Manager   \n",
       "35160  69144881                                    mathematics nqt   \n",
       "18628  68537757  health care assistant & support worker  liverpool   \n",
       "\n",
       "             Location                      Company   ContractType  \\\n",
       "44757              uk         moriati media uk ltd  non-specified   \n",
       "31931          london  corecruitment international  non-specified   \n",
       "27829        aberdeen       simplified recruitment  non-specified   \n",
       "6572          reading           calibre candidates  non-specified   \n",
       "42306      lancashire          inspired selections  non-specified   \n",
       "42528        the city           searchability  ltd  non-specified   \n",
       "41509    lincolnshire              ata recruitment  non-specified   \n",
       "1555   West Yorkshire   Jarvis King Associates Ltd  non-specified   \n",
       "35160   west midlands        edustaff   birmingham      full_time   \n",
       "18628       liverpool             prestige nursing      full_time   \n",
       "\n",
       "        ContractTime                     Category    Salary  \\\n",
       "44757  non-specified                   Sales Jobs  32500.00   \n",
       "31931  non-specified  Hospitality & Catering Jobs  17000.00   \n",
       "27829      permanent                   Sales Jobs  50000.00   \n",
       "6572       permanent                   Sales Jobs  23000.00   \n",
       "42306  non-specified    Healthcare & Nursing Jobs  16000.00   \n",
       "42528      permanent                      IT Jobs  22500.00   \n",
       "41509  non-specified             Engineering Jobs  30750.00   \n",
       "1555       permanent                  Engineering  54999.96   \n",
       "35160      permanent                Teaching Jobs  23378.00   \n",
       "18628  non-specified    Healthcare & Nursing Jobs  29376.00   \n",
       "\n",
       "                  OpenDate            CloseDate  \n",
       "44757  2013-10-09 12:00:00  2013-10-23 12:00:00  \n",
       "31931  2012-05-16 12:00:00  2012-06-15 12:00:00  \n",
       "27829  2012-05-26 00:00:00  2012-07-25 00:00:00  \n",
       "6572   2013-06-02 12:00:00  2013-08-01 12:00:00  \n",
       "42306  2012-02-04 12:00:00  2012-03-05 12:00:00  \n",
       "42528  2013-10-06 12:00:00  2013-11-05 12:00:00  \n",
       "41509  2013-01-12 12:00:00  2013-01-26 12:00:00  \n",
       "1555   2012-10-18 12:00:00  2012-12-17 12:00:00  \n",
       "35160  2012-05-16 12:00:00  2012-08-14 12:00:00  \n",
       "18628  2012-05-29 00:00:00  2012-07-28 00:00:00  "
      ]
     },
     "execution_count": 21,
     "metadata": {},
     "output_type": "execute_result"
    }
   ],
   "source": [
    "# Code to merge two data sets\n",
    "df = pd.concat([df1,df2])\n",
    "print (df.shape)\n",
    "df.sample(10)"
   ]
  },
  {
   "cell_type": "markdown",
   "metadata": {},
   "source": [
    "### 4. Resolving data conflicts:\n",
    "\n",
    "Let's first try to check duplicates using all the records we have:"
   ]
  },
  {
   "cell_type": "markdown",
   "metadata": {},
   "source": [
    "#### Conflict 1:  duplicate check\n",
    "Let's drop the duplicates and keep the last record."
   ]
  },
  {
   "cell_type": "code",
   "execution_count": 22,
   "metadata": {},
   "outputs": [
    {
     "name": "stdout",
     "output_type": "stream",
     "text": [
      "There are 0 duplicate records found\n"
     ]
    },
    {
     "data": {
      "text/html": [
       "<div>\n",
       "<style scoped>\n",
       "    .dataframe tbody tr th:only-of-type {\n",
       "        vertical-align: middle;\n",
       "    }\n",
       "\n",
       "    .dataframe tbody tr th {\n",
       "        vertical-align: top;\n",
       "    }\n",
       "\n",
       "    .dataframe thead th {\n",
       "        text-align: right;\n",
       "    }\n",
       "</style>\n",
       "<table border=\"1\" class=\"dataframe\">\n",
       "  <thead>\n",
       "    <tr style=\"text-align: right;\">\n",
       "      <th></th>\n",
       "      <th>Id</th>\n",
       "      <th>Title</th>\n",
       "      <th>Location</th>\n",
       "      <th>Company</th>\n",
       "      <th>ContractType</th>\n",
       "      <th>ContractTime</th>\n",
       "      <th>Category</th>\n",
       "      <th>Salary</th>\n",
       "      <th>OpenDate</th>\n",
       "      <th>CloseDate</th>\n",
       "    </tr>\n",
       "  </thead>\n",
       "  <tbody>\n",
       "  </tbody>\n",
       "</table>\n",
       "</div>"
      ],
      "text/plain": [
       "Empty DataFrame\n",
       "Columns: [Id, Title, Location, Company, ContractType, ContractTime, Category, Salary, OpenDate, CloseDate]\n",
       "Index: []"
      ]
     },
     "execution_count": 22,
     "metadata": {},
     "output_type": "execute_result"
    }
   ],
   "source": [
    "# Code to inspect data and identify conflicts in data\n",
    "### check duplication\n",
    "duplicates = df[df.duplicated(keep=False)] # showing all duplicated records\n",
    "print (\"There are \"+ str(len(duplicates)) + \" duplicate records found\")\n",
    "duplicates.sort_values(by=duplicates.columns.tolist()).head(10)"
   ]
  },
  {
   "cell_type": "code",
   "execution_count": 23,
   "metadata": {},
   "outputs": [
    {
     "name": "stdout",
     "output_type": "stream",
     "text": [
      "There are 0 duplicate records found\n"
     ]
    },
    {
     "data": {
      "text/html": [
       "<div>\n",
       "<style scoped>\n",
       "    .dataframe tbody tr th:only-of-type {\n",
       "        vertical-align: middle;\n",
       "    }\n",
       "\n",
       "    .dataframe tbody tr th {\n",
       "        vertical-align: top;\n",
       "    }\n",
       "\n",
       "    .dataframe thead th {\n",
       "        text-align: right;\n",
       "    }\n",
       "</style>\n",
       "<table border=\"1\" class=\"dataframe\">\n",
       "  <thead>\n",
       "    <tr style=\"text-align: right;\">\n",
       "      <th></th>\n",
       "      <th>Id</th>\n",
       "      <th>Title</th>\n",
       "      <th>Location</th>\n",
       "      <th>Company</th>\n",
       "      <th>ContractType</th>\n",
       "      <th>ContractTime</th>\n",
       "      <th>Category</th>\n",
       "      <th>Salary</th>\n",
       "      <th>OpenDate</th>\n",
       "      <th>CloseDate</th>\n",
       "    </tr>\n",
       "  </thead>\n",
       "  <tbody>\n",
       "  </tbody>\n",
       "</table>\n",
       "</div>"
      ],
      "text/plain": [
       "Empty DataFrame\n",
       "Columns: [Id, Title, Location, Company, ContractType, ContractTime, Category, Salary, OpenDate, CloseDate]\n",
       "Index: []"
      ]
     },
     "execution_count": 23,
     "metadata": {},
     "output_type": "execute_result"
    }
   ],
   "source": [
    "# Code to fix the conflict\n",
    "# check duplication\n",
    "cols = ['Id'] # this should uniquely identified a record, as the same bike could not be used by multiple trip started at the same time \n",
    "duplicates = df[df.duplicated(cols,keep=False)]\n",
    "print (\"There are \"+ str(len(duplicates)) + \" duplicate records found\")\n",
    "duplicates.sort_values(by=cols).head(10)"
   ]
  },
  {
   "cell_type": "markdown",
   "metadata": {},
   "source": [
    "### 5. Saving the integrated and reshaped data\n",
    "The last part of the integration process is to export our output data to csv format, named as:\n",
    "- '\\s4015344_dataset_integrated.csv'"
   ]
  },
  {
   "cell_type": "code",
   "execution_count": 24,
   "metadata": {},
   "outputs": [],
   "source": [
    "# code to save output data\n",
    "df.to_csv(\"s4015344_dataset_integrated.csv\",index = False)"
   ]
  },
  {
   "cell_type": "markdown",
   "metadata": {},
   "source": [
    "## Summary of the Assessment Task\n",
    "\n",
    "\n",
    "In task 3, we tackled data integration.\n",
    "\n",
    "Ideally, after resolving all schema conflicts, identifying duplicates using complete records would be straightforward. However, in practice, this is often not the case."
   ]
  }
 ],
 "metadata": {
  "kernelspec": {
   "display_name": "Python 3 (ipykernel)",
   "language": "python",
   "name": "python3"
  },
  "language_info": {
   "codemirror_mode": {
    "name": "ipython",
    "version": 3
   },
   "file_extension": ".py",
   "mimetype": "text/x-python",
   "name": "python",
   "nbconvert_exporter": "python",
   "pygments_lexer": "ipython3",
   "version": "3.11.3"
  }
 },
 "nbformat": 4,
 "nbformat_minor": 1
}
