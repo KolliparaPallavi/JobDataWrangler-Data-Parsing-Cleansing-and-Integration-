{
 "cells": [
  {
   "cell_type": "markdown",
   "metadata": {},
   "source": [
    "# Assignment 1: Data Parsing, Cleansing and Integration\n",
    "## Task 1 and 2\n",
    "#### Student Name: Pallavi Kollipara\n",
    "#### Student ID: 4015344\n",
    "\n",
    "Date: 12/04/2024\n",
    "\n",
    "Version: 1.0\n",
    "\n",
    "Environment: Python 3 and Jupyter notebook\n",
    "\n",
    "Libraries used: please include the main libraries you used in your assignment, e.g.,:\n",
    "* pandas\n",
    "* re\n",
    "* numpy\n",
    "* difflib\n",
    "* seaborn\n",
    "* matplotlib\n",
    "* xml\n",
    "\n",
    "## Introduction\n",
    "\n",
    "The XML file s4015344_dataset1.xml needs to be converted to CSV using parsing methods. Subsequently, both graphical and non-graphical tools will be utilized to perform initial auditing of the dataset.\n",
    "\n",
    "The dataset consists of fields such as Id, Title, Location, Company, ContractType, ContractTime, Category, Salary, OpenDate, CloseDate, and SourceName, covering the years 2012 and 2013. The data will be audited to identify errors, which will be listed in a CSV file \"s4015344_errorlist.csv\". Finally, the fixed \"s4015344_dataset1\" CSV will be generated."
   ]
  },
  {
   "cell_type": "markdown",
   "metadata": {},
   "source": [
    "## Importing libraries "
   ]
  },
  {
   "cell_type": "code",
   "execution_count": 1,
   "metadata": {},
   "outputs": [],
   "source": [
    "import xml.etree.ElementTree as ET\n",
    "import pandas as pd\n",
    "import re\n",
    "import difflib\n",
    "import seaborn as sns\n",
    "import matplotlib.pyplot as plt"
   ]
  },
  {
   "cell_type": "markdown",
   "metadata": {},
   "source": [
    "## Task 1. Parsing Data"
   ]
  },
  {
   "cell_type": "markdown",
   "metadata": {},
   "source": [
    "### 1.1. Examining and loading data\n",
    "\n",
    "Investigate the \"\\s4015344_dataset1.xml\" file to understand its content and organization. Utilize the parse() function to analyze the XML data and create a structured representation. Then, employ the getroot() method to confirm successful retrieval of the root element."
   ]
  },
  {
   "cell_type": "code",
   "execution_count": 2,
   "metadata": {},
   "outputs": [
    {
     "data": {
      "text/plain": [
       "'JobAds'"
      ]
     },
     "execution_count": 2,
     "metadata": {},
     "output_type": "execute_result"
    }
   ],
   "source": [
    "# Parse the XML file\n",
    "xml_file = \"s4015344_dataset1.xml\"\n",
    "tree = ET.parse(xml_file)\n",
    "root = tree.getroot()\n",
    "root.tag"
   ]
  },
  {
   "cell_type": "markdown",
   "metadata": {},
   "source": [
    "### 1.2 Parsing data into the required format"
   ]
  },
  {
   "cell_type": "code",
   "execution_count": 3,
   "metadata": {},
   "outputs": [
    {
     "data": {
      "text/html": [
       "<div>\n",
       "<style scoped>\n",
       "    .dataframe tbody tr th:only-of-type {\n",
       "        vertical-align: middle;\n",
       "    }\n",
       "\n",
       "    .dataframe tbody tr th {\n",
       "        vertical-align: top;\n",
       "    }\n",
       "\n",
       "    .dataframe thead th {\n",
       "        text-align: right;\n",
       "    }\n",
       "</style>\n",
       "<table border=\"1\" class=\"dataframe\">\n",
       "  <thead>\n",
       "    <tr style=\"text-align: right;\">\n",
       "      <th></th>\n",
       "      <th>Id</th>\n",
       "      <th>Title</th>\n",
       "      <th>Location</th>\n",
       "      <th>Company</th>\n",
       "      <th>ContractType</th>\n",
       "      <th>ContractTime</th>\n",
       "      <th>Category</th>\n",
       "      <th>Salary</th>\n",
       "      <th>OpenDate</th>\n",
       "      <th>CloseDate</th>\n",
       "      <th>SourceName</th>\n",
       "    </tr>\n",
       "  </thead>\n",
       "  <tbody>\n",
       "    <tr>\n",
       "      <th>0</th>\n",
       "      <td>69747285</td>\n",
       "      <td>Science Teacher  Sundays</td>\n",
       "      <td>West London</td>\n",
       "      <td>Trust Education</td>\n",
       "      <td>part_time</td>\n",
       "      <td>N/A</td>\n",
       "      <td>Teaching Jobs</td>\n",
       "      <td>25400</td>\n",
       "      <td>20120917T150000</td>\n",
       "      <td>20121017T150000</td>\n",
       "      <td>cv-library.co.uk</td>\n",
       "    </tr>\n",
       "    <tr>\n",
       "      <th>1</th>\n",
       "      <td>69022397</td>\n",
       "      <td>IT Support/Rollout Engineer</td>\n",
       "      <td>Sheffield</td>\n",
       "      <td>Matchtech Group Plc</td>\n",
       "      <td>N/A</td>\n",
       "      <td>contract</td>\n",
       "      <td>IT Jobs</td>\n",
       "      <td>14400</td>\n",
       "      <td>20130927T000000</td>\n",
       "      <td>20131027T000000</td>\n",
       "      <td>cv-library.co.uk</td>\n",
       "    </tr>\n",
       "    <tr>\n",
       "      <th>2</th>\n",
       "      <td>69932721</td>\n",
       "      <td>Electronics Reliability Analysis Engineer</td>\n",
       "      <td>UK</td>\n",
       "      <td>Innovate Recruitment Ltd</td>\n",
       "      <td>N/A</td>\n",
       "      <td>permanent</td>\n",
       "      <td>Engineering Jobs</td>\n",
       "      <td>29000</td>\n",
       "      <td>20121115T120000</td>\n",
       "      <td>20130213T120000</td>\n",
       "      <td>cv-library.co.uk</td>\n",
       "    </tr>\n",
       "    <tr>\n",
       "      <th>3</th>\n",
       "      <td>67019364</td>\n",
       "      <td>Project / Planning Coordinator</td>\n",
       "      <td>Ely</td>\n",
       "      <td>i4 Recruitment</td>\n",
       "      <td>N/A</td>\n",
       "      <td>permanent</td>\n",
       "      <td>Engineering Jobs</td>\n",
       "      <td>21500</td>\n",
       "      <td>20120426T150000</td>\n",
       "      <td>20120625T150000</td>\n",
       "      <td>cv-library.co.uk</td>\n",
       "    </tr>\n",
       "    <tr>\n",
       "      <th>4</th>\n",
       "      <td>67903542</td>\n",
       "      <td>Solutions Architect CCNP CCIP CCIE</td>\n",
       "      <td>Reading</td>\n",
       "      <td>JAM Recruitment Ltd</td>\n",
       "      <td>N/A</td>\n",
       "      <td>permanent</td>\n",
       "      <td>IT Jobs</td>\n",
       "      <td>55000</td>\n",
       "      <td>20131219T150000</td>\n",
       "      <td>20140217T150000</td>\n",
       "      <td>cv-library.co.uk</td>\n",
       "    </tr>\n",
       "  </tbody>\n",
       "</table>\n",
       "</div>"
      ],
      "text/plain": [
       "         Id                                      Title     Location  \\\n",
       "0  69747285                   Science Teacher  Sundays  West London   \n",
       "1  69022397                IT Support/Rollout Engineer    Sheffield   \n",
       "2  69932721  Electronics Reliability Analysis Engineer           UK   \n",
       "3  67019364             Project / Planning Coordinator          Ely   \n",
       "4  67903542         Solutions Architect CCNP CCIP CCIE      Reading   \n",
       "\n",
       "                    Company ContractType ContractTime          Category  \\\n",
       "0           Trust Education    part_time          N/A     Teaching Jobs   \n",
       "1       Matchtech Group Plc          N/A     contract           IT Jobs   \n",
       "2  Innovate Recruitment Ltd          N/A    permanent  Engineering Jobs   \n",
       "3            i4 Recruitment          N/A    permanent  Engineering Jobs   \n",
       "4       JAM Recruitment Ltd          N/A    permanent           IT Jobs   \n",
       "\n",
       "  Salary         OpenDate        CloseDate        SourceName  \n",
       "0  25400  20120917T150000  20121017T150000  cv-library.co.uk  \n",
       "1  14400  20130927T000000  20131027T000000  cv-library.co.uk  \n",
       "2  29000  20121115T120000  20130213T120000  cv-library.co.uk  \n",
       "3  21500  20120426T150000  20120625T150000  cv-library.co.uk  \n",
       "4  55000  20131219T150000  20140217T150000  cv-library.co.uk  "
      ]
     },
     "execution_count": 3,
     "metadata": {},
     "output_type": "execute_result"
    }
   ],
   "source": [
    "# Code to parse data\n",
    "\n",
    "data = []\n",
    "\n",
    "# Iterate the data for each job advertisement\n",
    "for job_ad in root.findall('.//JobAd'):\n",
    "    add_data = {\n",
    "        'Id': job_ad.find('Id').text,\n",
    "        'Title': job_ad.find('Title').text if job_ad.find('Title') is not None else 'non-specified',\n",
    "        'Location': job_ad.find('Location').text if job_ad.find('Location') is not None else 'non-specified',\n",
    "        'Company': job_ad.find('Company').text if job_ad.find('Company') is not None else 'non-specified',\n",
    "        'ContractType': job_ad.find('ContractType').text if job_ad.find('ContractType') is not None else 'non-specified',\n",
    "        'ContractTime': job_ad.find('ContractTime').text if job_ad.find('ContractTime') is not None else 'non-specified',\n",
    "        'Category': job_ad.find('Category').text if job_ad.find('Category') is not None else None,\n",
    "        'Salary': job_ad.find('Salary').text if job_ad.find('Salary') is not None else None,\n",
    "        'OpenDate': job_ad.find('.//OpenDate').text if job_ad.find('.//OpenDate') is not None else None,\n",
    "        'CloseDate': job_ad.find('.//CloseDate').text if job_ad.find('.//CloseDate') is not None else None\n",
    "    }\n",
    "    data.append(add_data)\n",
    "\n",
    "# The SourceName is the same for all entries, we fetch it only once\n",
    "source_name = root.find('.//SourceName').text if root.find('.//SourceName') is not None else 'non-specified'\n",
    "\n",
    "# Add 'SourceName' to each dictionary entry\n",
    "for entry in data:\n",
    "    entry['SourceName'] = source_name\n",
    "\n",
    "# Create DataFrame\n",
    "df = pd.DataFrame(data)\n",
    "\n",
    "# Display the head of the DataFrame to check the result\n",
    "df.head()"
   ]
  },
  {
   "cell_type": "code",
   "execution_count": 4,
   "metadata": {},
   "outputs": [
    {
     "data": {
      "text/plain": [
       "(50703, 11)"
      ]
     },
     "execution_count": 4,
     "metadata": {},
     "output_type": "execute_result"
    }
   ],
   "source": [
    "df.shape"
   ]
  },
  {
   "cell_type": "markdown",
   "metadata": {},
   "source": [
    "## Task 2. Auditing and cleansing the loaded data\n"
   ]
  },
  {
   "cell_type": "code",
   "execution_count": 5,
   "metadata": {
    "scrolled": false
   },
   "outputs": [
    {
     "name": "stdout",
     "output_type": "stream",
     "text": [
      "<class 'pandas.core.frame.DataFrame'>\n",
      "RangeIndex: 50703 entries, 0 to 50702\n",
      "Data columns (total 11 columns):\n",
      " #   Column        Non-Null Count  Dtype \n",
      "---  ------        --------------  ----- \n",
      " 0   Id            50703 non-null  object\n",
      " 1   Title         50703 non-null  object\n",
      " 2   Location      50703 non-null  object\n",
      " 3   Company       50703 non-null  object\n",
      " 4   ContractType  50703 non-null  object\n",
      " 5   ContractTime  50703 non-null  object\n",
      " 6   Category      50703 non-null  object\n",
      " 7   Salary        49939 non-null  object\n",
      " 8   OpenDate      50703 non-null  object\n",
      " 9   CloseDate     50703 non-null  object\n",
      " 10  SourceName    50703 non-null  object\n",
      "dtypes: object(11)\n",
      "memory usage: 4.3+ MB\n"
     ]
    }
   ],
   "source": [
    "# Code to audit data\n",
    "df.info()"
   ]
  },
  {
   "cell_type": "code",
   "execution_count": 6,
   "metadata": {},
   "outputs": [
    {
     "data": {
      "text/html": [
       "<div>\n",
       "<style scoped>\n",
       "    .dataframe tbody tr th:only-of-type {\n",
       "        vertical-align: middle;\n",
       "    }\n",
       "\n",
       "    .dataframe tbody tr th {\n",
       "        vertical-align: top;\n",
       "    }\n",
       "\n",
       "    .dataframe thead th {\n",
       "        text-align: right;\n",
       "    }\n",
       "</style>\n",
       "<table border=\"1\" class=\"dataframe\">\n",
       "  <thead>\n",
       "    <tr style=\"text-align: right;\">\n",
       "      <th></th>\n",
       "      <th>Id</th>\n",
       "      <th>Title</th>\n",
       "      <th>Location</th>\n",
       "      <th>Company</th>\n",
       "      <th>ContractType</th>\n",
       "      <th>ContractTime</th>\n",
       "      <th>Category</th>\n",
       "      <th>Salary</th>\n",
       "      <th>OpenDate</th>\n",
       "      <th>CloseDate</th>\n",
       "      <th>SourceName</th>\n",
       "    </tr>\n",
       "  </thead>\n",
       "  <tbody>\n",
       "    <tr>\n",
       "      <th>count</th>\n",
       "      <td>50703</td>\n",
       "      <td>50703</td>\n",
       "      <td>50703</td>\n",
       "      <td>50703</td>\n",
       "      <td>50703</td>\n",
       "      <td>50703</td>\n",
       "      <td>50703</td>\n",
       "      <td>49939</td>\n",
       "      <td>50703</td>\n",
       "      <td>50703</td>\n",
       "      <td>50703</td>\n",
       "    </tr>\n",
       "    <tr>\n",
       "      <th>unique</th>\n",
       "      <td>50702</td>\n",
       "      <td>50700</td>\n",
       "      <td>489</td>\n",
       "      <td>8674</td>\n",
       "      <td>6</td>\n",
       "      <td>6</td>\n",
       "      <td>8</td>\n",
       "      <td>3467</td>\n",
       "      <td>2194</td>\n",
       "      <td>2416</td>\n",
       "      <td>1</td>\n",
       "    </tr>\n",
       "    <tr>\n",
       "      <th>top</th>\n",
       "      <td>69854693</td>\n",
       "      <td>Commercial Burner Engineer</td>\n",
       "      <td>UK</td>\n",
       "      <td>non-specified</td>\n",
       "      <td>non-specified</td>\n",
       "      <td>permanent</td>\n",
       "      <td>IT Jobs</td>\n",
       "      <td>35000</td>\n",
       "      <td>20120408T120000</td>\n",
       "      <td>20130420T000000</td>\n",
       "      <td>cv-library.co.uk</td>\n",
       "    </tr>\n",
       "    <tr>\n",
       "      <th>freq</th>\n",
       "      <td>2</td>\n",
       "      <td>2</td>\n",
       "      <td>7622</td>\n",
       "      <td>3379</td>\n",
       "      <td>15362</td>\n",
       "      <td>30324</td>\n",
       "      <td>13133</td>\n",
       "      <td>1718</td>\n",
       "      <td>42</td>\n",
       "      <td>38</td>\n",
       "      <td>50703</td>\n",
       "    </tr>\n",
       "  </tbody>\n",
       "</table>\n",
       "</div>"
      ],
      "text/plain": [
       "              Id                       Title Location        Company  \\\n",
       "count      50703                       50703    50703          50703   \n",
       "unique     50702                       50700      489           8674   \n",
       "top     69854693  Commercial Burner Engineer       UK  non-specified   \n",
       "freq           2                           2     7622           3379   \n",
       "\n",
       "         ContractType ContractTime Category Salary         OpenDate  \\\n",
       "count           50703        50703    50703  49939            50703   \n",
       "unique              6            6        8   3467             2194   \n",
       "top     non-specified    permanent  IT Jobs  35000  20120408T120000   \n",
       "freq            15362        30324    13133   1718               42   \n",
       "\n",
       "              CloseDate        SourceName  \n",
       "count             50703             50703  \n",
       "unique             2416                 1  \n",
       "top     20130420T000000  cv-library.co.uk  \n",
       "freq                 38             50703  "
      ]
     },
     "execution_count": 6,
     "metadata": {},
     "output_type": "execute_result"
    }
   ],
   "source": [
    "df.describe()"
   ]
  },
  {
   "cell_type": "code",
   "execution_count": 7,
   "metadata": {
    "scrolled": true
   },
   "outputs": [
    {
     "data": {
      "text/html": [
       "<div>\n",
       "<style scoped>\n",
       "    .dataframe tbody tr th:only-of-type {\n",
       "        vertical-align: middle;\n",
       "    }\n",
       "\n",
       "    .dataframe tbody tr th {\n",
       "        vertical-align: top;\n",
       "    }\n",
       "\n",
       "    .dataframe thead th {\n",
       "        text-align: right;\n",
       "    }\n",
       "</style>\n",
       "<table border=\"1\" class=\"dataframe\">\n",
       "  <thead>\n",
       "    <tr style=\"text-align: right;\">\n",
       "      <th></th>\n",
       "      <th>Id</th>\n",
       "      <th>Title</th>\n",
       "      <th>Location</th>\n",
       "      <th>Company</th>\n",
       "      <th>ContractType</th>\n",
       "      <th>ContractTime</th>\n",
       "      <th>Category</th>\n",
       "      <th>Salary</th>\n",
       "      <th>OpenDate</th>\n",
       "      <th>CloseDate</th>\n",
       "      <th>SourceName</th>\n",
       "    </tr>\n",
       "  </thead>\n",
       "  <tbody>\n",
       "    <tr>\n",
       "      <th>0</th>\n",
       "      <td>69747285</td>\n",
       "      <td>Science Teacher  Sundays</td>\n",
       "      <td>West London</td>\n",
       "      <td>Trust Education</td>\n",
       "      <td>part_time</td>\n",
       "      <td>N/A</td>\n",
       "      <td>Teaching Jobs</td>\n",
       "      <td>25400</td>\n",
       "      <td>20120917T150000</td>\n",
       "      <td>20121017T150000</td>\n",
       "      <td>cv-library.co.uk</td>\n",
       "    </tr>\n",
       "    <tr>\n",
       "      <th>1</th>\n",
       "      <td>69022397</td>\n",
       "      <td>IT Support/Rollout Engineer</td>\n",
       "      <td>Sheffield</td>\n",
       "      <td>Matchtech Group Plc</td>\n",
       "      <td>N/A</td>\n",
       "      <td>contract</td>\n",
       "      <td>IT Jobs</td>\n",
       "      <td>14400</td>\n",
       "      <td>20130927T000000</td>\n",
       "      <td>20131027T000000</td>\n",
       "      <td>cv-library.co.uk</td>\n",
       "    </tr>\n",
       "    <tr>\n",
       "      <th>2</th>\n",
       "      <td>69932721</td>\n",
       "      <td>Electronics Reliability Analysis Engineer</td>\n",
       "      <td>UK</td>\n",
       "      <td>Innovate Recruitment Ltd</td>\n",
       "      <td>N/A</td>\n",
       "      <td>permanent</td>\n",
       "      <td>Engineering Jobs</td>\n",
       "      <td>29000</td>\n",
       "      <td>20121115T120000</td>\n",
       "      <td>20130213T120000</td>\n",
       "      <td>cv-library.co.uk</td>\n",
       "    </tr>\n",
       "    <tr>\n",
       "      <th>3</th>\n",
       "      <td>67019364</td>\n",
       "      <td>Project / Planning Coordinator</td>\n",
       "      <td>Ely</td>\n",
       "      <td>i4 Recruitment</td>\n",
       "      <td>N/A</td>\n",
       "      <td>permanent</td>\n",
       "      <td>Engineering Jobs</td>\n",
       "      <td>21500</td>\n",
       "      <td>20120426T150000</td>\n",
       "      <td>20120625T150000</td>\n",
       "      <td>cv-library.co.uk</td>\n",
       "    </tr>\n",
       "    <tr>\n",
       "      <th>4</th>\n",
       "      <td>67903542</td>\n",
       "      <td>Solutions Architect CCNP CCIP CCIE</td>\n",
       "      <td>Reading</td>\n",
       "      <td>JAM Recruitment Ltd</td>\n",
       "      <td>N/A</td>\n",
       "      <td>permanent</td>\n",
       "      <td>IT Jobs</td>\n",
       "      <td>55000</td>\n",
       "      <td>20131219T150000</td>\n",
       "      <td>20140217T150000</td>\n",
       "      <td>cv-library.co.uk</td>\n",
       "    </tr>\n",
       "  </tbody>\n",
       "</table>\n",
       "</div>"
      ],
      "text/plain": [
       "         Id                                      Title     Location  \\\n",
       "0  69747285                   Science Teacher  Sundays  West London   \n",
       "1  69022397                IT Support/Rollout Engineer    Sheffield   \n",
       "2  69932721  Electronics Reliability Analysis Engineer           UK   \n",
       "3  67019364             Project / Planning Coordinator          Ely   \n",
       "4  67903542         Solutions Architect CCNP CCIP CCIE      Reading   \n",
       "\n",
       "                    Company ContractType ContractTime          Category  \\\n",
       "0           Trust Education    part_time          N/A     Teaching Jobs   \n",
       "1       Matchtech Group Plc          N/A     contract           IT Jobs   \n",
       "2  Innovate Recruitment Ltd          N/A    permanent  Engineering Jobs   \n",
       "3            i4 Recruitment          N/A    permanent  Engineering Jobs   \n",
       "4       JAM Recruitment Ltd          N/A    permanent           IT Jobs   \n",
       "\n",
       "  Salary         OpenDate        CloseDate        SourceName  \n",
       "0  25400  20120917T150000  20121017T150000  cv-library.co.uk  \n",
       "1  14400  20130927T000000  20131027T000000  cv-library.co.uk  \n",
       "2  29000  20121115T120000  20130213T120000  cv-library.co.uk  \n",
       "3  21500  20120426T150000  20120625T150000  cv-library.co.uk  \n",
       "4  55000  20131219T150000  20140217T150000  cv-library.co.uk  "
      ]
     },
     "execution_count": 7,
     "metadata": {},
     "output_type": "execute_result"
    }
   ],
   "source": [
    "df.head()"
   ]
  },
  {
   "cell_type": "code",
   "execution_count": 8,
   "metadata": {},
   "outputs": [
    {
     "data": {
      "text/plain": [
       "Id                0\n",
       "Title             0\n",
       "Location          0\n",
       "Company           0\n",
       "ContractType      0\n",
       "ContractTime      0\n",
       "Category          0\n",
       "Salary          764\n",
       "OpenDate          0\n",
       "CloseDate         0\n",
       "SourceName        0\n",
       "dtype: int64"
      ]
     },
     "execution_count": 8,
     "metadata": {},
     "output_type": "execute_result"
    }
   ],
   "source": [
    "df.isnull().sum()"
   ]
  },
  {
   "cell_type": "markdown",
   "metadata": {},
   "source": [
    "### Error recorder"
   ]
  },
  {
   "cell_type": "markdown",
   "metadata": {},
   "source": [
    "Create an error log named \"erlist\" DataFrame to log any encountered issues during the auditing procedure. Additionally, developed the function \"updateErlist\" to modify the erlist DataFrame accordingly."
   ]
  },
  {
   "cell_type": "code",
   "execution_count": 9,
   "metadata": {},
   "outputs": [
    {
     "data": {
      "text/html": [
       "<div>\n",
       "<style scoped>\n",
       "    .dataframe tbody tr th:only-of-type {\n",
       "        vertical-align: middle;\n",
       "    }\n",
       "\n",
       "    .dataframe tbody tr th {\n",
       "        vertical-align: top;\n",
       "    }\n",
       "\n",
       "    .dataframe thead th {\n",
       "        text-align: right;\n",
       "    }\n",
       "</style>\n",
       "<table border=\"1\" class=\"dataframe\">\n",
       "  <thead>\n",
       "    <tr style=\"text-align: right;\">\n",
       "      <th></th>\n",
       "      <th>indexOfdf</th>\n",
       "      <th>Id</th>\n",
       "      <th>ColumnName</th>\n",
       "      <th>Orignal</th>\n",
       "      <th>Modified</th>\n",
       "      <th>ErrorType</th>\n",
       "      <th>Fixing</th>\n",
       "    </tr>\n",
       "  </thead>\n",
       "  <tbody>\n",
       "  </tbody>\n",
       "</table>\n",
       "</div>"
      ],
      "text/plain": [
       "Empty DataFrame\n",
       "Columns: [indexOfdf, Id, ColumnName, Orignal, Modified, ErrorType, Fixing]\n",
       "Index: []"
      ]
     },
     "execution_count": 9,
     "metadata": {},
     "output_type": "execute_result"
    }
   ],
   "source": [
    "itemlist = ['indexOfdf','Id','ColumnName', 'Orignal', 'Modified', 'ErrorType','Fixing']\n",
    "erlist = pd.DataFrame(columns=itemlist)\n",
    "erlist"
   ]
  },
  {
   "cell_type": "code",
   "execution_count": 10,
   "metadata": {},
   "outputs": [],
   "source": [
    "# update error list by attributes\n",
    "def updateErlist(indexOfdf,Id, ColumnName, Orignal, Modified, ErrorType, Fixing):\n",
    "    errItem=[indexOfdf,Id,ColumnName, Orignal, Modified, ErrorType,Fixing]\n",
    "    erlist.loc[len(erlist)]=errItem"
   ]
  },
  {
   "cell_type": "code",
   "execution_count": 11,
   "metadata": {},
   "outputs": [
    {
     "data": {
      "text/plain": [
       "RangeIndex(start=0, stop=50703, step=1)"
      ]
     },
     "execution_count": 11,
     "metadata": {},
     "output_type": "execute_result"
    }
   ],
   "source": [
    "indices = df.index \n",
    "indices"
   ]
  },
  {
   "cell_type": "markdown",
   "metadata": {},
   "source": [
    "## Checking for ID :"
   ]
  },
  {
   "cell_type": "markdown",
   "metadata": {},
   "source": [
    "In this task, I first ensured that the \"Id\" column contained no null values and then converted it from an object data type to an integer type. Upon checking for duplicate values, I identified one. To resolve this, I compared the associated open dates and decided to keep the latest record. This process helps maintain data integrity and ensures that only the most recent information is retained."
   ]
  },
  {
   "cell_type": "code",
   "execution_count": 12,
   "metadata": {},
   "outputs": [
    {
     "data": {
      "text/plain": [
       "[]    50703\n",
       "Name: Id, dtype: int64"
      ]
     },
     "execution_count": 12,
     "metadata": {},
     "output_type": "execute_result"
    }
   ],
   "source": [
    "non_digit_chars = df['Id'].apply(lambda x: re.findall(r'\\D+', x))\n",
    "non_digit_chars.astype('str').value_counts()"
   ]
  },
  {
   "cell_type": "code",
   "execution_count": 13,
   "metadata": {},
   "outputs": [],
   "source": [
    "df['Id']=df['Id'].astype(int)"
   ]
  },
  {
   "cell_type": "code",
   "execution_count": 14,
   "metadata": {},
   "outputs": [],
   "source": [
    "updateErlist(42853, 69854693, 'Id', '69854693','', 'Duplicate', \"dropped this record because of the duplicate data \")\n"
   ]
  },
  {
   "cell_type": "code",
   "execution_count": 15,
   "metadata": {},
   "outputs": [
    {
     "name": "stdout",
     "output_type": "stream",
     "text": [
      "There are 2 duplicate records found\n"
     ]
    },
    {
     "data": {
      "text/html": [
       "<div>\n",
       "<style scoped>\n",
       "    .dataframe tbody tr th:only-of-type {\n",
       "        vertical-align: middle;\n",
       "    }\n",
       "\n",
       "    .dataframe tbody tr th {\n",
       "        vertical-align: top;\n",
       "    }\n",
       "\n",
       "    .dataframe thead th {\n",
       "        text-align: right;\n",
       "    }\n",
       "</style>\n",
       "<table border=\"1\" class=\"dataframe\">\n",
       "  <thead>\n",
       "    <tr style=\"text-align: right;\">\n",
       "      <th></th>\n",
       "      <th>Id</th>\n",
       "      <th>Title</th>\n",
       "      <th>Location</th>\n",
       "      <th>Company</th>\n",
       "      <th>ContractType</th>\n",
       "      <th>ContractTime</th>\n",
       "      <th>Category</th>\n",
       "      <th>Salary</th>\n",
       "      <th>OpenDate</th>\n",
       "      <th>CloseDate</th>\n",
       "      <th>SourceName</th>\n",
       "    </tr>\n",
       "  </thead>\n",
       "  <tbody>\n",
       "    <tr>\n",
       "      <th>42853</th>\n",
       "      <td>69854693</td>\n",
       "      <td>PRIMARY SUPPLY TEACHING STAFF  Greater London ...</td>\n",
       "      <td>London</td>\n",
       "      <td>AER TEACHERS</td>\n",
       "      <td>part_time</td>\n",
       "      <td>contract</td>\n",
       "      <td>Teaching Jobs</td>\n",
       "      <td>31500</td>\n",
       "      <td>20130526T120000</td>\n",
       "      <td>20130625T120000</td>\n",
       "      <td>cv-library.co.uk</td>\n",
       "    </tr>\n",
       "    <tr>\n",
       "      <th>50677</th>\n",
       "      <td>69854693</td>\n",
       "      <td>Infrastructure Technician  St Albans</td>\n",
       "      <td>St. Albans</td>\n",
       "      <td>Conrad Consulting</td>\n",
       "      <td>-</td>\n",
       "      <td>permanent</td>\n",
       "      <td>Engineering Jobs</td>\n",
       "      <td>33500</td>\n",
       "      <td>20120927T150000</td>\n",
       "      <td>20121226T150000</td>\n",
       "      <td>cv-library.co.uk</td>\n",
       "    </tr>\n",
       "  </tbody>\n",
       "</table>\n",
       "</div>"
      ],
      "text/plain": [
       "             Id                                              Title  \\\n",
       "42853  69854693  PRIMARY SUPPLY TEACHING STAFF  Greater London ...   \n",
       "50677  69854693              Infrastructure Technician  St Albans    \n",
       "\n",
       "         Location            Company ContractType ContractTime  \\\n",
       "42853      London       AER TEACHERS    part_time     contract   \n",
       "50677  St. Albans  Conrad Consulting            -    permanent   \n",
       "\n",
       "               Category Salary         OpenDate        CloseDate  \\\n",
       "42853     Teaching Jobs  31500  20130526T120000  20130625T120000   \n",
       "50677  Engineering Jobs  33500  20120927T150000  20121226T150000   \n",
       "\n",
       "             SourceName  \n",
       "42853  cv-library.co.uk  \n",
       "50677  cv-library.co.uk  "
      ]
     },
     "execution_count": 15,
     "metadata": {},
     "output_type": "execute_result"
    }
   ],
   "source": [
    "# Code to fix the conflict\n",
    "# check duplication\n",
    "cols = ['Id'] \n",
    "duplicates = df[df.duplicated(cols,keep=False)]\n",
    "print (\"There are \"+ str(len(duplicates)) + \" duplicate records found\")\n",
    "duplicates.sort_values(by=cols).head(10)"
   ]
  },
  {
   "cell_type": "code",
   "execution_count": 16,
   "metadata": {},
   "outputs": [
    {
     "data": {
      "text/plain": [
       "(50702, 11)"
      ]
     },
     "execution_count": 16,
     "metadata": {},
     "output_type": "execute_result"
    }
   ],
   "source": [
    "df = df.drop_duplicates(cols, keep='last')\n",
    "df.shape"
   ]
  },
  {
   "cell_type": "code",
   "execution_count": 17,
   "metadata": {},
   "outputs": [
    {
     "name": "stdout",
     "output_type": "stream",
     "text": [
      "<class 'pandas.core.frame.DataFrame'>\n",
      "Int64Index: 50702 entries, 0 to 50702\n",
      "Data columns (total 11 columns):\n",
      " #   Column        Non-Null Count  Dtype \n",
      "---  ------        --------------  ----- \n",
      " 0   Id            50702 non-null  int64 \n",
      " 1   Title         50702 non-null  object\n",
      " 2   Location      50702 non-null  object\n",
      " 3   Company       50702 non-null  object\n",
      " 4   ContractType  50702 non-null  object\n",
      " 5   ContractTime  50702 non-null  object\n",
      " 6   Category      50702 non-null  object\n",
      " 7   Salary        49938 non-null  object\n",
      " 8   OpenDate      50702 non-null  object\n",
      " 9   CloseDate     50702 non-null  object\n",
      " 10  SourceName    50702 non-null  object\n",
      "dtypes: int64(1), object(10)\n",
      "memory usage: 4.6+ MB\n"
     ]
    }
   ],
   "source": [
    "df.info()"
   ]
  },
  {
   "cell_type": "markdown",
   "metadata": {},
   "source": [
    "## Checking for Location:"
   ]
  },
  {
   "cell_type": "markdown",
   "metadata": {},
   "source": [
    "The \"Location\" column in the dataset contains various location names, but some entries have misspellings or inconsistencies. To address this issue, I utilized the difflib.get_close_matches function to find similar location names with a cutoff value of 0.85. This below code snippet searches for similar location names to 'manchaster' in the dataset and returns the closest match with a similarity score above 0.85. Similarly, I performed this process for other misspelled locations such as 'leads', 'oxfords', 'livepool', and 'cembridge'. Paralelly I am updating the error table."
   ]
  },
  {
   "cell_type": "code",
   "execution_count": 18,
   "metadata": {},
   "outputs": [],
   "source": [
    "df['Location'].fillna('non-specified', inplace=True)\n",
    "df['Location']= df['Location'].str.lower()"
   ]
  },
  {
   "cell_type": "code",
   "execution_count": 19,
   "metadata": {},
   "outputs": [
    {
     "data": {
      "text/plain": [
       "uk                   7622\n",
       "london               6608\n",
       "south east london    2687\n",
       "the city             1129\n",
       "central london        830\n",
       "                     ... \n",
       "leads                   2\n",
       "oxfords                 2\n",
       "livepool                1\n",
       "cembridge               1\n",
       "manchaster              1\n",
       "Name: Location, Length: 484, dtype: int64"
      ]
     },
     "execution_count": 19,
     "metadata": {},
     "output_type": "execute_result"
    }
   ],
   "source": [
    "df['Location'].value_counts()"
   ]
  },
  {
   "cell_type": "code",
   "execution_count": 20,
   "metadata": {},
   "outputs": [
    {
     "data": {
      "text/plain": [
       "['manchester']"
      ]
     },
     "execution_count": 20,
     "metadata": {},
     "output_type": "execute_result"
    }
   ],
   "source": [
    "difflib.get_close_matches('manchaster',set(df['Location']).difference(['manchaster']), n = 1,cutoff=0.85) "
   ]
  },
  {
   "cell_type": "code",
   "execution_count": 21,
   "metadata": {},
   "outputs": [],
   "source": [
    "misspelled_rows = df[df['Location'].str.contains('manchaster', case=False)]\n",
    "misspelled_id = misspelled_rows['Id'].values[0] if not misspelled_rows.empty else None\n",
    "misspelled_index = misspelled_rows.index[0]\n",
    "updateErlist(misspelled_index, misspelled_id,'Location', 'manchaster', 'manchester', 'Misspelling','changed manchaster to manchester') "
   ]
  },
  {
   "cell_type": "code",
   "execution_count": 22,
   "metadata": {},
   "outputs": [
    {
     "data": {
      "text/plain": [
       "['cambridge']"
      ]
     },
     "execution_count": 22,
     "metadata": {},
     "output_type": "execute_result"
    }
   ],
   "source": [
    "difflib.get_close_matches('cembridge',set(df['Location']).difference(['cembridge']), n = 1,cutoff=0.85) "
   ]
  },
  {
   "cell_type": "code",
   "execution_count": 23,
   "metadata": {},
   "outputs": [],
   "source": [
    "\n",
    "misspelled_rows = df[df['Location'].str.contains('cembridge', case=False)]\n",
    "misspelled_id = misspelled_rows['Id'].values[0] if not misspelled_rows.empty else None\n",
    "misspelled_index = misspelled_rows.index[0]\n",
    "updateErlist(misspelled_index, misspelled_id,'Location', 'cembridge', 'cambridge', 'Misspelling','changed cembridge to cambridge') "
   ]
  },
  {
   "cell_type": "code",
   "execution_count": 24,
   "metadata": {},
   "outputs": [
    {
     "data": {
      "text/plain": [
       "['liverpool']"
      ]
     },
     "execution_count": 24,
     "metadata": {},
     "output_type": "execute_result"
    }
   ],
   "source": [
    "difflib.get_close_matches('livepool',set(df['Location']).difference(['livepool']), n = 1,cutoff=0.85) "
   ]
  },
  {
   "cell_type": "code",
   "execution_count": 25,
   "metadata": {},
   "outputs": [],
   "source": [
    "\n",
    "misspelled_rows = df[df['Location'].str.contains('livepool', case=False)]\n",
    "misspelled_id = misspelled_rows['Id'].values[0] if not misspelled_rows.empty else None\n",
    "misspelled_index = misspelled_rows.index[0]\n",
    "updateErlist(misspelled_index, misspelled_id,'Location', 'livepool', 'liverpool', 'Misspelling','changed cembridge to cambridge') "
   ]
  },
  {
   "cell_type": "code",
   "execution_count": 26,
   "metadata": {},
   "outputs": [
    {
     "data": {
      "text/plain": [
       "['oxford']"
      ]
     },
     "execution_count": 26,
     "metadata": {},
     "output_type": "execute_result"
    }
   ],
   "source": [
    "difflib.get_close_matches('oxfords',set(df['Location']).difference(['oxfords']), n = 1,cutoff=0.85) "
   ]
  },
  {
   "cell_type": "code",
   "execution_count": 27,
   "metadata": {},
   "outputs": [],
   "source": [
    "\n",
    "misspelled_rows = df[df['Location'].str.contains('oxfords', case=False)]\n",
    "misspelled_id = misspelled_rows['Id'].values[0] if not misspelled_rows.empty else None\n",
    "misspelled_index = misspelled_rows.index[0]\n",
    "updateErlist(misspelled_index, misspelled_id,'Location', 'oxfords', 'oxford', 'Misspelling','changed cembridge to cambridge') "
   ]
  },
  {
   "cell_type": "code",
   "execution_count": 28,
   "metadata": {},
   "outputs": [
    {
     "data": {
      "text/plain": [
       "['leeds']"
      ]
     },
     "execution_count": 28,
     "metadata": {},
     "output_type": "execute_result"
    }
   ],
   "source": [
    "difflib.get_close_matches('leads',set(df['Location']).difference(['leads']), n = 1,cutoff=0.80) "
   ]
  },
  {
   "cell_type": "code",
   "execution_count": 29,
   "metadata": {},
   "outputs": [],
   "source": [
    "\n",
    "misspelled_rows = df[df['Location'].str.contains('leads', case=False)]\n",
    "misspelled_id = misspelled_rows['Id'].values[0] if not misspelled_rows.empty else None\n",
    "misspelled_index = misspelled_rows.index[0]\n",
    "updateErlist(misspelled_index, misspelled_id,'Location', 'leads', 'leeds', 'Misspelling','changed cembridge to cambridge') "
   ]
  },
  {
   "cell_type": "code",
   "execution_count": 30,
   "metadata": {},
   "outputs": [
    {
     "data": {
      "text/plain": [
       "uk                   7622\n",
       "london               6608\n",
       "south east london    2687\n",
       "the city             1129\n",
       "central london        830\n",
       "                     ... \n",
       "grimsby                 9\n",
       "chipping campden        8\n",
       "oldbury                 8\n",
       "petersfield             8\n",
       "north finchley          7\n",
       "Name: Location, Length: 479, dtype: int64"
      ]
     },
     "execution_count": 30,
     "metadata": {},
     "output_type": "execute_result"
    }
   ],
   "source": [
    "replace_dict = {'manchaster':'manchester', 'cembridge':'cambridge','livepool':'liverpool','oxfords':'oxford','leads':'leeds'}\n",
    "df['Location'].replace(replace_dict,inplace=True)\n",
    "df['Location'].value_counts()"
   ]
  },
  {
   "cell_type": "markdown",
   "metadata": {},
   "source": [
    "## Checking for Title:"
   ]
  },
  {
   "cell_type": "markdown",
   "metadata": {},
   "source": [
    "There are no errors in the title"
   ]
  },
  {
   "cell_type": "code",
   "execution_count": 31,
   "metadata": {},
   "outputs": [
    {
     "data": {
      "text/plain": [
       "array(['Science Teacher  Sundays', 'IT Support/Rollout Engineer',\n",
       "       'Electronics Reliability Analysis Engineer', ...,\n",
       "       'Graduate Engineer (Water industry)',\n",
       "       'Health & Social Care Tutor/Assessor  Bristol',\n",
       "       'Head of Estates Maintenance'], dtype=object)"
      ]
     },
     "execution_count": 31,
     "metadata": {},
     "output_type": "execute_result"
    }
   ],
   "source": [
    "df['Title'].fillna('non-specified', inplace=True)\n",
    "df['Title'].unique()"
   ]
  },
  {
   "cell_type": "code",
   "execution_count": 32,
   "metadata": {
    "scrolled": true
   },
   "outputs": [
    {
     "data": {
      "text/plain": [
       "finance business partner                                    2\n",
       "commercial burner engineer                                  2\n",
       "system tester  join a leading fund manager  ****k, essex    2\n",
       "calibration repair engineer                                 1\n",
       "graduate developer  consultant java sql banking city        1\n",
       "                                                           ..\n",
       "staff nurse  dorking  dorking                               1\n",
       "qualified nurses  exeter and plymouth  exeter               1\n",
       "community nurse  leicester                                  1\n",
       "deputy home manager rgn  preston                            1\n",
       "head of estates maintenance                                 1\n",
       "Name: Title, Length: 50699, dtype: int64"
      ]
     },
     "execution_count": 32,
     "metadata": {},
     "output_type": "execute_result"
    }
   ],
   "source": [
    "df['Title']= df['Title'].str.lower()\n",
    "df['Title'].value_counts()"
   ]
  },
  {
   "cell_type": "markdown",
   "metadata": {},
   "source": [
    "## Checking for Company:"
   ]
  },
  {
   "cell_type": "markdown",
   "metadata": {},
   "source": [
    "I addressed the presence of space (' '), dot ('.'), n/a and hyphen ('-') values in the \"Company\" column by replacing them with \"non-specified\"."
   ]
  },
  {
   "cell_type": "code",
   "execution_count": 33,
   "metadata": {},
   "outputs": [
    {
     "data": {
      "text/plain": [
       "array(['Trust Education', 'Matchtech Group Plc',\n",
       "       'Innovate Recruitment Ltd', ..., 'Proxime Ltd', 'Hays ',\n",
       "       'Pursuit Training Ltd'], dtype=object)"
      ]
     },
     "execution_count": 33,
     "metadata": {},
     "output_type": "execute_result"
    }
   ],
   "source": [
    "df['Company'].unique()"
   ]
  },
  {
   "cell_type": "code",
   "execution_count": 34,
   "metadata": {},
   "outputs": [],
   "source": [
    "pattern = r'^[\\s.-]*$|n/a'\n",
    "matched_rows = df[df['Company'].str.contains(pattern, case=False, na=False)]\n",
    "matched_indices = matched_rows.index\n",
    "matched_ids = matched_rows['Id']\n",
    "matched_values = matched_rows['Company']\n",
    "\n",
    "# Print the indices and corresponding 'Id' values\n",
    "for ind, Id, Or_col in zip(matched_indices, matched_ids,matched_values):\n",
    "    #print(\"Index:\", index, \"Id:\", id_value)\n",
    "    updateErlist(ind, Id,'Company', Or_col, 'non-specified', 'Inconsistency',\"replacing all inconsistant values\") "
   ]
  },
  {
   "cell_type": "code",
   "execution_count": 35,
   "metadata": {},
   "outputs": [],
   "source": [
    "df['Company'] = df['Company'].replace(pattern, 'non-specified', regex=True)"
   ]
  },
  {
   "cell_type": "code",
   "execution_count": 36,
   "metadata": {},
   "outputs": [
    {
     "data": {
      "text/plain": [
       "non-specified                5164\n",
       "ukstaffsearch                 434\n",
       "randstad                      369\n",
       "cvbrowser                     309\n",
       "matchtech group plc.          230\n",
       "                             ... \n",
       "d p connect                     1\n",
       "scr                             1\n",
       "the best connection group       1\n",
       "university of leeds             1\n",
       "pursuit training ltd            1\n",
       "Name: Company, Length: 8437, dtype: int64"
      ]
     },
     "execution_count": 36,
     "metadata": {},
     "output_type": "execute_result"
    }
   ],
   "source": [
    "# Fill NaN values with 'non-specified'\n",
    "df['Company']= df['Company'].str.lower()\n",
    "df['Company'].value_counts()"
   ]
  },
  {
   "cell_type": "code",
   "execution_count": 37,
   "metadata": {},
   "outputs": [
    {
     "data": {
      "text/html": [
       "<div>\n",
       "<style scoped>\n",
       "    .dataframe tbody tr th:only-of-type {\n",
       "        vertical-align: middle;\n",
       "    }\n",
       "\n",
       "    .dataframe tbody tr th {\n",
       "        vertical-align: top;\n",
       "    }\n",
       "\n",
       "    .dataframe thead th {\n",
       "        text-align: right;\n",
       "    }\n",
       "</style>\n",
       "<table border=\"1\" class=\"dataframe\">\n",
       "  <thead>\n",
       "    <tr style=\"text-align: right;\">\n",
       "      <th></th>\n",
       "      <th>indexOfdf</th>\n",
       "      <th>Id</th>\n",
       "      <th>ColumnName</th>\n",
       "      <th>Orignal</th>\n",
       "      <th>Modified</th>\n",
       "      <th>ErrorType</th>\n",
       "      <th>Fixing</th>\n",
       "    </tr>\n",
       "  </thead>\n",
       "  <tbody>\n",
       "    <tr>\n",
       "      <th>0</th>\n",
       "      <td>42853</td>\n",
       "      <td>69854693</td>\n",
       "      <td>Id</td>\n",
       "      <td>69854693</td>\n",
       "      <td></td>\n",
       "      <td>Duplicate</td>\n",
       "      <td>dropped this record because of the duplicate d...</td>\n",
       "    </tr>\n",
       "    <tr>\n",
       "      <th>1</th>\n",
       "      <td>36913</td>\n",
       "      <td>46635529</td>\n",
       "      <td>Location</td>\n",
       "      <td>manchaster</td>\n",
       "      <td>manchester</td>\n",
       "      <td>Misspelling</td>\n",
       "      <td>changed manchaster to manchester</td>\n",
       "    </tr>\n",
       "    <tr>\n",
       "      <th>2</th>\n",
       "      <td>351</td>\n",
       "      <td>69082675</td>\n",
       "      <td>Location</td>\n",
       "      <td>cembridge</td>\n",
       "      <td>cambridge</td>\n",
       "      <td>Misspelling</td>\n",
       "      <td>changed cembridge to cambridge</td>\n",
       "    </tr>\n",
       "    <tr>\n",
       "      <th>3</th>\n",
       "      <td>17387</td>\n",
       "      <td>71091982</td>\n",
       "      <td>Location</td>\n",
       "      <td>livepool</td>\n",
       "      <td>liverpool</td>\n",
       "      <td>Misspelling</td>\n",
       "      <td>changed cembridge to cambridge</td>\n",
       "    </tr>\n",
       "    <tr>\n",
       "      <th>4</th>\n",
       "      <td>242</td>\n",
       "      <td>66012745</td>\n",
       "      <td>Location</td>\n",
       "      <td>oxfords</td>\n",
       "      <td>oxford</td>\n",
       "      <td>Misspelling</td>\n",
       "      <td>changed cembridge to cambridge</td>\n",
       "    </tr>\n",
       "  </tbody>\n",
       "</table>\n",
       "</div>"
      ],
      "text/plain": [
       "   indexOfdf        Id ColumnName     Orignal    Modified    ErrorType  \\\n",
       "0      42853  69854693         Id    69854693                Duplicate   \n",
       "1      36913  46635529   Location  manchaster  manchester  Misspelling   \n",
       "2        351  69082675   Location   cembridge   cambridge  Misspelling   \n",
       "3      17387  71091982   Location    livepool   liverpool  Misspelling   \n",
       "4        242  66012745   Location     oxfords      oxford  Misspelling   \n",
       "\n",
       "                                              Fixing  \n",
       "0  dropped this record because of the duplicate d...  \n",
       "1                   changed manchaster to manchester  \n",
       "2                     changed cembridge to cambridge  \n",
       "3                     changed cembridge to cambridge  \n",
       "4                     changed cembridge to cambridge  "
      ]
     },
     "execution_count": 37,
     "metadata": {},
     "output_type": "execute_result"
    }
   ],
   "source": [
    "erlist.head()"
   ]
  },
  {
   "cell_type": "markdown",
   "metadata": {},
   "source": [
    "## Checking for ContractType"
   ]
  },
  {
   "cell_type": "markdown",
   "metadata": {},
   "source": [
    "I recorded the errors encountered in the \"ContractType\" column, which included blank values, hyphens, and \"N/A\" entries. Following the guidelines mentioned in the assignment PDF to maintain only \"full_time\", \"part_time\", and \"non-specified\" values, I updated the contract types accordingly using an array and lambda function."
   ]
  },
  {
   "cell_type": "code",
   "execution_count": 38,
   "metadata": {},
   "outputs": [
    {
     "data": {
      "text/plain": [
       "array(['part_time', 'N/A', '-', 'full_time', ' ', 'non-specified'],\n",
       "      dtype=object)"
      ]
     },
     "execution_count": 38,
     "metadata": {},
     "output_type": "execute_result"
    }
   ],
   "source": [
    "df['ContractType'].unique()"
   ]
  },
  {
   "cell_type": "code",
   "execution_count": 39,
   "metadata": {},
   "outputs": [],
   "source": [
    "pattern = r'^[\\s-]*$|N/A'\n",
    "matched_rows = df[df['ContractType'].str.contains(pattern, case=False, na=False)]\n",
    "matched_indices = matched_rows.index\n",
    "matched_ids = matched_rows['Id']\n",
    "matched_values = matched_rows['ContractType']\n",
    "\n",
    "# Print the indices and corresponding 'Id' values\n",
    "for ind, Id, Or_col in zip(matched_indices, matched_ids,matched_values):\n",
    "    #print(\"Index:\", index, \"Id:\", id_value)\n",
    "    updateErlist(ind, Id,'ContractType', Or_col, 'non-specified', 'Inconsistency',\"replacing all inconsistant values\") "
   ]
  },
  {
   "cell_type": "code",
   "execution_count": 40,
   "metadata": {},
   "outputs": [],
   "source": [
    "# Validate domain values\n",
    "valid_contract_types = ['full_time', 'part_time', 'non-specified']\n",
    "df['ContractType'] = df['ContractType'].apply(lambda x: x if x in valid_contract_types else 'non-specified')"
   ]
  },
  {
   "cell_type": "code",
   "execution_count": 41,
   "metadata": {
    "scrolled": true
   },
   "outputs": [
    {
     "data": {
      "text/plain": [
       "non-specified    37436\n",
       "full_time        11752\n",
       "part_time         1514\n",
       "Name: ContractType, dtype: int64"
      ]
     },
     "execution_count": 41,
     "metadata": {},
     "output_type": "execute_result"
    }
   ],
   "source": [
    "df['ContractType'].value_counts()"
   ]
  },
  {
   "cell_type": "markdown",
   "metadata": {},
   "source": [
    "## Checking for ContractTime"
   ]
  },
  {
   "cell_type": "markdown",
   "metadata": {},
   "source": [
    "I recorded the errors encountered in the \"ContractTime\" column, which included blank values, hyphens, and \"N/A\" entries. Following the guidelines mentioned in the assignment PDF to maintain only \"contract\", \"permanent\", and \"non-specified\" values, I updated the contract time accordingly using an array and lambda function."
   ]
  },
  {
   "cell_type": "code",
   "execution_count": 42,
   "metadata": {},
   "outputs": [
    {
     "data": {
      "text/plain": [
       "array(['N/A', 'contract', 'permanent', ' ', 'non-specified', '-'],\n",
       "      dtype=object)"
      ]
     },
     "execution_count": 42,
     "metadata": {},
     "output_type": "execute_result"
    }
   ],
   "source": [
    "df['ContractTime'].unique()"
   ]
  },
  {
   "cell_type": "code",
   "execution_count": 43,
   "metadata": {},
   "outputs": [],
   "source": [
    "pattern = r'^[\\s-]*$|N/A'\n",
    "matched_rows = df[df['ContractTime'].str.contains(pattern, case=False, na=False)]\n",
    "matched_indices = matched_rows.index\n",
    "matched_ids = matched_rows['Id']\n",
    "matched_values = matched_rows['ContractTime']\n",
    "\n",
    "# Print the indices and corresponding 'Id' values\n",
    "for ind, Id, Or_col in zip(matched_indices, matched_ids,matched_values):\n",
    "    #print(\"Index:\", index, \"Id:\", id_value)\n",
    "    updateErlist(ind, Id,'ContractTime', Or_col, 'non-specified', 'Inconsistency',\"replacing all inconsistant values\") "
   ]
  },
  {
   "cell_type": "code",
   "execution_count": 44,
   "metadata": {},
   "outputs": [],
   "source": [
    "# Validate domain values\n",
    "valid_contract_times = ['permanent', 'contract', 'non-specified']\n",
    "df['ContractTime'] = df['ContractTime'].apply(lambda x: x if x in valid_contract_times else 'non-specified')\n"
   ]
  },
  {
   "cell_type": "code",
   "execution_count": 45,
   "metadata": {
    "scrolled": true
   },
   "outputs": [
    {
     "data": {
      "text/plain": [
       "non-specified    37436\n",
       "full_time        11752\n",
       "part_time         1514\n",
       "Name: ContractType, dtype: int64"
      ]
     },
     "execution_count": 45,
     "metadata": {},
     "output_type": "execute_result"
    }
   ],
   "source": [
    "df['ContractType'].value_counts()"
   ]
  },
  {
   "cell_type": "markdown",
   "metadata": {},
   "source": [
    "## Checking for the Category"
   ]
  },
  {
   "cell_type": "markdown",
   "metadata": {},
   "source": [
    "The \"Category\" column does not contain any errors."
   ]
  },
  {
   "cell_type": "code",
   "execution_count": 46,
   "metadata": {},
   "outputs": [
    {
     "data": {
      "text/plain": [
       "array(['Teaching Jobs', 'IT Jobs', 'Engineering Jobs', 'Sales Jobs',\n",
       "       'Healthcare & Nursing Jobs', 'PR, Advertising & Marketing Jobs',\n",
       "       'Hospitality & Catering Jobs', 'Accounting & Finance Jobs'],\n",
       "      dtype=object)"
      ]
     },
     "execution_count": 46,
     "metadata": {},
     "output_type": "execute_result"
    }
   ],
   "source": [
    "df['Category'].unique()"
   ]
  },
  {
   "cell_type": "markdown",
   "metadata": {},
   "source": [
    "## Checking for Salary"
   ]
  },
  {
   "cell_type": "markdown",
   "metadata": {},
   "source": [
    "There are various inconsistencies in the \"Salary\" column, including different formats such as /year, pa, K, and hourly rates. To standardize this, I removed the 'K' character and multiplied the value by 1000. For example, if the value was '34K', I changed it to '34000'. Then, I created a loop to update all the error values accordingly."
   ]
  },
  {
   "cell_type": "code",
   "execution_count": 47,
   "metadata": {},
   "outputs": [],
   "source": [
    "df['Salary'] = df['Salary'].astype(str)"
   ]
  },
  {
   "cell_type": "code",
   "execution_count": 48,
   "metadata": {
    "scrolled": false
   },
   "outputs": [
    {
     "data": {
      "text/plain": [
       "[]                    47684\n",
       "['None']                764\n",
       "['N/A']                 685\n",
       "['.']                   405\n",
       "[' ']                   380\n",
       "['-']                   329\n",
       "[' - ']                 100\n",
       "[' to ']                100\n",
       "['/year']               100\n",
       "[' pa']                 100\n",
       "['K']                    50\n",
       "['.', ' per hour']        3\n",
       "['.', ' p/h']             2\n",
       "Name: Salary, dtype: int64"
      ]
     },
     "execution_count": 48,
     "metadata": {},
     "output_type": "execute_result"
    }
   ],
   "source": [
    "non_digit_chars = df['Salary'].apply(lambda x: re.findall(r'\\D+', x))\n",
    "non_digit_chars.astype('str').value_counts()"
   ]
  },
  {
   "cell_type": "code",
   "execution_count": 49,
   "metadata": {},
   "outputs": [],
   "source": [
    "import warnings\n",
    "warnings.filterwarnings(\"ignore\")"
   ]
  },
  {
   "cell_type": "code",
   "execution_count": 50,
   "metadata": {},
   "outputs": [],
   "source": [
    "\n",
    "\n",
    "pattern = r'(\\d+)K'\n",
    "matched_rows = df[df['Salary'].str.contains(pattern, case=False, na=False)]\n",
    "matched_indices = matched_rows.index\n",
    "matched_ids = matched_rows['Id']\n",
    "matched_values = matched_rows['Salary']\n",
    "\n",
    "# Print the indices and corresponding 'Id' values\n",
    "for ind, Id, Or_col in zip(matched_indices, matched_ids, matched_values):\n",
    "    # Apply the regex pattern to the Or_col string directly\n",
    "    updated_value = re.sub(pattern, lambda x: str(int(x.group(1)) * 1000), Or_col)\n",
    "    updateErlist(ind, Id, 'Salary', Or_col, updated_value, 'Inconsistency', \"Removed K and multiplied with 1000\")\n"
   ]
  },
  {
   "cell_type": "code",
   "execution_count": 51,
   "metadata": {},
   "outputs": [],
   "source": [
    "df['Salary'] = df['Salary'].str.replace(r'(\\d+)K', lambda x: str(int(x.group(1)) * 1000), regex=True)"
   ]
  },
  {
   "cell_type": "markdown",
   "metadata": {},
   "source": [
    "\n",
    "I followed a similar approach to handle values containing '-' and 'to'. I replaced these values with the average of the two salaries. For example, if the salary range was '23000 - 24000', I calculated the average of 23000 and 24000 and replaced it with the average value. Then, I updated the error log accordingly."
   ]
  },
  {
   "cell_type": "code",
   "execution_count": 52,
   "metadata": {},
   "outputs": [],
   "source": [
    "pattern = r'(\\d+)\\s?to\\s?(\\d+)'\n",
    "matched_rows = df[df['Salary'].str.contains(pattern, case=False, na=False)]\n",
    "matched_indices = matched_rows.index\n",
    "matched_ids = matched_rows['Id']\n",
    "matched_values = matched_rows['Salary']\n",
    "\n",
    "for ind, Id, Or_col in zip(matched_indices, matched_ids, matched_values):\n",
    "\n",
    "    updated_value = re.sub(pattern, lambda x: str((float(x.group(1)) + float(x.group(2))) / 2), Or_col)\n",
    "    updateErlist(ind, Id, 'Salary', Or_col, updated_value, 'Inconsistency', \"removed to and replaced with the average of both\")\n"
   ]
  },
  {
   "cell_type": "code",
   "execution_count": 53,
   "metadata": {},
   "outputs": [],
   "source": [
    "pattern = r'(\\d+)\\s?-\\s?(\\d+)'\n",
    "matched_rows = df[df['Salary'].str.contains(pattern, case=False, na=False)]\n",
    "matched_indices = matched_rows.index\n",
    "matched_ids = matched_rows['Id']\n",
    "matched_values = matched_rows['Salary']\n",
    "\n",
    "for ind, Id, Or_col in zip(matched_indices, matched_ids, matched_values):\n",
    "\n",
    "    updated_value = re.sub(pattern, lambda x: str((float(x.group(1)) + float(x.group(2))) / 2), Or_col)\n",
    "    updateErlist(ind, Id, 'Salary', Or_col, updated_value, 'Inconsistency', \"removed - and replaced with the average of both\")\n"
   ]
  },
  {
   "cell_type": "markdown",
   "metadata": {},
   "source": [
    "Here in the below code we are removing certain elements like \"/year\" and \"pa\" from some data, extracting the values, and then updating an error list with the rewritten data. "
   ]
  },
  {
   "cell_type": "code",
   "execution_count": 54,
   "metadata": {},
   "outputs": [],
   "source": [
    "pattern = r'(\\d+)(?: pa|[/\\\\][yY]ear)'\n",
    "matched_rows = df[df['Salary'].str.contains(pattern, case=False, na=False)]\n",
    "matched_indices = matched_rows.index\n",
    "matched_ids = matched_rows['Id']\n",
    "matched_values = matched_rows['Salary']\n",
    "\n",
    "for ind, Id, Or_col in zip(matched_indices, matched_ids, matched_values):\n",
    "\n",
    "    updated_value = re.sub(pattern, lambda x: str(x.group(1)), Or_col)\n",
    "    updateErlist(ind, Id, 'Salary', Or_col, updated_value, 'Inconsistency', \"removed the /year or pa and fetching the numeric value\")\n"
   ]
  },
  {
   "cell_type": "markdown",
   "metadata": {},
   "source": [
    "\n",
    "I've identified some records containing \"per hour\" or \"p/h\" patterns. From these, I've extracted the numeric values, converted them into yearly salaries, and then made updates to the error list accordingly."
   ]
  },
  {
   "cell_type": "code",
   "execution_count": 55,
   "metadata": {},
   "outputs": [],
   "source": [
    "pattern = r'(\\d+\\.?\\d*)(?: p.{1,4}h.*)'\n",
    "matched_rows = df[df['Salary'].str.contains(pattern, case=False, na=False)]\n",
    "matched_indices = matched_rows.index\n",
    "matched_ids = matched_rows['Id']\n",
    "matched_values = matched_rows['Salary']\n",
    "\n",
    "for ind, Id, Or_col in zip(matched_indices, matched_ids, matched_values):\n",
    "\n",
    "    updated_value = re.sub(pattern, lambda x: str(float(x.group(1))*40*52), Or_col)\n",
    "    updateErlist(ind, Id, 'Salary', Or_col, updated_value, 'Inconsistency', \"converted per hour to per year\")\n"
   ]
  },
  {
   "cell_type": "code",
   "execution_count": 56,
   "metadata": {},
   "outputs": [
    {
     "data": {
      "text/plain": [
       "[]                    47734\n",
       "['None']                764\n",
       "['N/A']                 685\n",
       "['.']                   405\n",
       "[' ']                   380\n",
       "['-']                   329\n",
       "[' - ']                 100\n",
       "[' to ']                100\n",
       "['/year']               100\n",
       "[' pa']                 100\n",
       "['.', ' per hour']        3\n",
       "['.', ' p/h']             2\n",
       "Name: Salary, dtype: int64"
      ]
     },
     "execution_count": 56,
     "metadata": {},
     "output_type": "execute_result"
    }
   ],
   "source": [
    "non_digit_chars = df['Salary'].apply(lambda x: re.findall(r'\\D+', x))\n",
    "non_digit_chars.astype('str').value_counts()"
   ]
  },
  {
   "cell_type": "code",
   "execution_count": 57,
   "metadata": {},
   "outputs": [],
   "source": [
    "# define a function to deal with all cases\n",
    "import numpy as np\n",
    "def normalised(sal_string):\n",
    "    # case 1, extract num in annual salary strings with format num-num\n",
    "    result = re.fullmatch(r'(\\d+)\\s?to\\s?(\\d+)', sal_string)\n",
    "    if result:\n",
    "        return (float(result.group(1))+float(result.group(2)))/2\n",
    "    \n",
    "    # case 2, extract num in annual salary strings with other format\n",
    "    result = re.fullmatch(r'(\\d+)(?: pa|[/\\\\][yY]ear)?', sal_string)\n",
    "    if result:\n",
    "        return result.group(1)\n",
    "    \n",
    "    # case 3, extract num in strings with hour rate/salary\n",
    "    result = re.fullmatch(r'(\\d+\\.?\\d*)(?: p.{1,4}h.*)', sal_string)\n",
    "    if result:\n",
    "        return float(result.group(1))*40*52\n",
    "    #case4\n",
    "    result = re.fullmatch(r'(\\d+\\.?\\d*)\\s?-\\s?(\\d+\\.?\\d*)', sal_string)\n",
    "    if result:\n",
    "        return (float(result.group(1))+float(result.group(2)))/2"
   ]
  },
  {
   "cell_type": "code",
   "execution_count": 58,
   "metadata": {},
   "outputs": [],
   "source": [
    "df['Salary'] = df['Salary'].apply(lambda x: normalised(x))"
   ]
  },
  {
   "cell_type": "markdown",
   "metadata": {},
   "source": [
    "## Outliers\n"
   ]
  },
  {
   "cell_type": "code",
   "execution_count": 59,
   "metadata": {},
   "outputs": [],
   "source": [
    "df['Salary'] = df['Salary'].astype(float)"
   ]
  },
  {
   "cell_type": "code",
   "execution_count": 60,
   "metadata": {},
   "outputs": [
    {
     "data": {
      "image/png": "[encoded data removed]",
      "text/plain": [
       "<Figure size 640x480 with 1 Axes>"
      ]
     },
     "metadata": {},
     "output_type": "display_data"
    }
   ],
   "source": [
    "df.hist('Salary', bins=50, alpha=0.5)\n",
    "plt.show()"
   ]
  },
  {
   "cell_type": "code",
   "execution_count": 61,
   "metadata": {},
   "outputs": [
    {
     "data": {
      "image/png": "[encoded data removed]",
      "text/plain": [
       "<Figure size 640x480 with 1 Axes>"
      ]
     },
     "metadata": {},
     "output_type": "display_data"
    }
   ],
   "source": [
    "_,bp = df.boxplot(column='Salary',sym='k.',return_type='both')\n",
    "outliers = [flier.get_ydata() for flier in bp[\"fliers\"]] # extract the outlier values"
   ]
  },
  {
   "cell_type": "code",
   "execution_count": 62,
   "metadata": {},
   "outputs": [
    {
     "data": {
      "text/plain": [
       "[array([84000.0, 90000.0, 85000.0, ..., 75000.0, 85000.0, 90000.0],\n",
       "       dtype=object)]"
      ]
     },
     "execution_count": 62,
     "metadata": {},
     "output_type": "execute_result"
    }
   ],
   "source": [
    "outliers"
   ]
  },
  {
   "cell_type": "code",
   "execution_count": 63,
   "metadata": {},
   "outputs": [
    {
     "data": {
      "text/plain": [
       "35000.0    1749\n",
       "30000.0    1697\n",
       "40000.0    1550\n",
       "45000.0    1368\n",
       "32500.0    1340\n",
       "           ... \n",
       "26895.0       1\n",
       "48192.0       1\n",
       "20050.0       1\n",
       "24591.0       1\n",
       "53520.0       1\n",
       "Name: Salary, Length: 3093, dtype: int64"
      ]
     },
     "execution_count": 63,
     "metadata": {},
     "output_type": "execute_result"
    }
   ],
   "source": [
    "df.Salary.value_counts() # check the domain value of the bedrooms column"
   ]
  },
  {
   "cell_type": "code",
   "execution_count": 64,
   "metadata": {},
   "outputs": [
    {
     "data": {
      "text/plain": [
       "<Axes: title={'center': 'Scatter plot'}, xlabel='Id', ylabel='Salary'>"
      ]
     },
     "execution_count": 64,
     "metadata": {},
     "output_type": "execute_result"
    },
    {
     "data": {
      "image/png": "[encoded data removed]",
      "text/plain": [
       "<Figure size 640x480 with 1 Axes>"
      ]
     },
     "metadata": {},
     "output_type": "display_data"
    }
   ],
   "source": [
    "df.plot.scatter(x='Id', y='Salary', title= \"Scatter plot\") # plot a scatter plot to see the correlation between sqft_living and bedrooms"
   ]
  },
  {
   "cell_type": "code",
   "execution_count": 65,
   "metadata": {},
   "outputs": [
    {
     "data": {
      "text/plain": [
       "['.']      48139\n",
       "['nan']     2563\n",
       "Name: Salary, dtype: int64"
      ]
     },
     "execution_count": 65,
     "metadata": {},
     "output_type": "execute_result"
    }
   ],
   "source": [
    "df['Salary'] = df['Salary'].astype(str)\n",
    "\n",
    "# Apply regex pattern to extract non-digit characters\n",
    "lastcheck = df['Salary'].apply(lambda x: re.findall(r'\\D+', x))\n",
    "\n",
    "# Convert the result to string and get value counts\n",
    "lastcheck.astype('str').value_counts()"
   ]
  },
  {
   "cell_type": "code",
   "execution_count": 66,
   "metadata": {},
   "outputs": [],
   "source": [
    "df['Salary'] = pd.to_numeric(df['Salary'], errors='coerce').round(2)"
   ]
  },
  {
   "cell_type": "code",
   "execution_count": 67,
   "metadata": {},
   "outputs": [
    {
     "name": "stdout",
     "output_type": "stream",
     "text": [
      "<class 'pandas.core.frame.DataFrame'>\n",
      "Int64Index: 50702 entries, 0 to 50702\n",
      "Data columns (total 11 columns):\n",
      " #   Column        Non-Null Count  Dtype  \n",
      "---  ------        --------------  -----  \n",
      " 0   Id            50702 non-null  int64  \n",
      " 1   Title         50702 non-null  object \n",
      " 2   Location      50702 non-null  object \n",
      " 3   Company       50702 non-null  object \n",
      " 4   ContractType  50702 non-null  object \n",
      " 5   ContractTime  50702 non-null  object \n",
      " 6   Category      50702 non-null  object \n",
      " 7   Salary        48139 non-null  float64\n",
      " 8   OpenDate      50702 non-null  object \n",
      " 9   CloseDate     50702 non-null  object \n",
      " 10  SourceName    50702 non-null  object \n",
      "dtypes: float64(1), int64(1), object(9)\n",
      "memory usage: 4.6+ MB\n"
     ]
    }
   ],
   "source": [
    "df.info()"
   ]
  },
  {
   "cell_type": "markdown",
   "metadata": {},
   "source": [
    "## Handle null values using linear regressions"
   ]
  },
  {
   "cell_type": "code",
   "execution_count": 68,
   "metadata": {},
   "outputs": [
    {
     "data": {
      "text/plain": [
       "Id                 0\n",
       "Title              0\n",
       "Location           0\n",
       "Company            0\n",
       "ContractType       0\n",
       "ContractTime       0\n",
       "Category           0\n",
       "Salary          2563\n",
       "OpenDate           0\n",
       "CloseDate          0\n",
       "SourceName         0\n",
       "dtype: int64"
      ]
     },
     "execution_count": 68,
     "metadata": {},
     "output_type": "execute_result"
    }
   ],
   "source": [
    "df.isnull().sum()"
   ]
  },
  {
   "cell_type": "code",
   "execution_count": 69,
   "metadata": {},
   "outputs": [
    {
     "name": "stdout",
     "output_type": "stream",
     "text": [
      "<class 'pandas.core.frame.DataFrame'>\n",
      "Int64Index: 50702 entries, 0 to 50702\n",
      "Data columns (total 11 columns):\n",
      " #   Column        Non-Null Count  Dtype  \n",
      "---  ------        --------------  -----  \n",
      " 0   Id            50702 non-null  int64  \n",
      " 1   Title         50702 non-null  object \n",
      " 2   Location      50702 non-null  object \n",
      " 3   Company       50702 non-null  object \n",
      " 4   ContractType  50702 non-null  object \n",
      " 5   ContractTime  50702 non-null  object \n",
      " 6   Category      50702 non-null  object \n",
      " 7   Salary        48139 non-null  float64\n",
      " 8   OpenDate      50702 non-null  object \n",
      " 9   CloseDate     50702 non-null  object \n",
      " 10  SourceName    50702 non-null  object \n",
      "dtypes: float64(1), int64(1), object(9)\n",
      "memory usage: 4.6+ MB\n"
     ]
    }
   ],
   "source": [
    "df.info()"
   ]
  },
  {
   "cell_type": "markdown",
   "metadata": {},
   "source": [
    "There are 764 missing values in the Salary column.So let's impute the missing values for the Salary column using linear regression."
   ]
  },
  {
   "cell_type": "code",
   "execution_count": 70,
   "metadata": {
    "scrolled": true
   },
   "outputs": [],
   "source": [
    "\n",
    "def correlation_heatmap(df):\n",
    "    _,ax=plt.subplots(figsize=(13,8))\n",
    "    colormap=sns.diverging_palette(100,10,as_cmap=True)\n",
    "    sns.heatmap(df.corr(),annot=True,cmap=colormap)"
   ]
  },
  {
   "cell_type": "code",
   "execution_count": 71,
   "metadata": {},
   "outputs": [
    {
     "data": {
      "image/png": "[encoded data removed]",
      "text/plain": [
       "<Figure size 1300x800 with 2 Axes>"
      ]
     },
     "metadata": {},
     "output_type": "display_data"
    }
   ],
   "source": [
    "correlation_heatmap(df)\n",
    "plt.show()"
   ]
  },
  {
   "cell_type": "code",
   "execution_count": 72,
   "metadata": {},
   "outputs": [
    {
     "data": {
      "text/html": [
       "<div>\n",
       "<style scoped>\n",
       "    .dataframe tbody tr th:only-of-type {\n",
       "        vertical-align: middle;\n",
       "    }\n",
       "\n",
       "    .dataframe tbody tr th {\n",
       "        vertical-align: top;\n",
       "    }\n",
       "\n",
       "    .dataframe thead th {\n",
       "        text-align: right;\n",
       "    }\n",
       "</style>\n",
       "<table border=\"1\" class=\"dataframe\">\n",
       "  <thead>\n",
       "    <tr style=\"text-align: right;\">\n",
       "      <th></th>\n",
       "      <th>Salary</th>\n",
       "    </tr>\n",
       "  </thead>\n",
       "  <tbody>\n",
       "    <tr>\n",
       "      <th>14</th>\n",
       "      <td>NaN</td>\n",
       "    </tr>\n",
       "    <tr>\n",
       "      <th>26</th>\n",
       "      <td>NaN</td>\n",
       "    </tr>\n",
       "    <tr>\n",
       "      <th>44</th>\n",
       "      <td>NaN</td>\n",
       "    </tr>\n",
       "    <tr>\n",
       "      <th>70</th>\n",
       "      <td>NaN</td>\n",
       "    </tr>\n",
       "    <tr>\n",
       "      <th>161</th>\n",
       "      <td>NaN</td>\n",
       "    </tr>\n",
       "    <tr>\n",
       "      <th>...</th>\n",
       "      <td>...</td>\n",
       "    </tr>\n",
       "    <tr>\n",
       "      <th>50553</th>\n",
       "      <td>NaN</td>\n",
       "    </tr>\n",
       "    <tr>\n",
       "      <th>50584</th>\n",
       "      <td>NaN</td>\n",
       "    </tr>\n",
       "    <tr>\n",
       "      <th>50635</th>\n",
       "      <td>NaN</td>\n",
       "    </tr>\n",
       "    <tr>\n",
       "      <th>50651</th>\n",
       "      <td>NaN</td>\n",
       "    </tr>\n",
       "    <tr>\n",
       "      <th>50681</th>\n",
       "      <td>NaN</td>\n",
       "    </tr>\n",
       "  </tbody>\n",
       "</table>\n",
       "<p>2563 rows × 1 columns</p>\n",
       "</div>"
      ],
      "text/plain": [
       "       Salary\n",
       "14        NaN\n",
       "26        NaN\n",
       "44        NaN\n",
       "70        NaN\n",
       "161       NaN\n",
       "...       ...\n",
       "50553     NaN\n",
       "50584     NaN\n",
       "50635     NaN\n",
       "50651     NaN\n",
       "50681     NaN\n",
       "\n",
       "[2563 rows x 1 columns]"
      ]
     },
     "execution_count": 72,
     "metadata": {},
     "output_type": "execute_result"
    }
   ],
   "source": [
    "df_missing = df.loc[df.isnull().any(axis=1), df.isnull().any()]\n",
    "df_missing"
   ]
  },
  {
   "cell_type": "code",
   "execution_count": 73,
   "metadata": {
    "scrolled": true
   },
   "outputs": [
    {
     "data": {
      "text/plain": [
       "Int64Index([   14,    26,    44,    70,   161,   163,   164,   242,   275,\n",
       "              294,\n",
       "            ...\n",
       "            50544, 50545, 50546, 50547, 50548, 50553, 50584, 50635, 50651,\n",
       "            50681],\n",
       "           dtype='int64', length=2563)"
      ]
     },
     "execution_count": 73,
     "metadata": {},
     "output_type": "execute_result"
    }
   ],
   "source": [
    "# getting the indices that contains missing values \n",
    "df_missing.index"
   ]
  },
  {
   "cell_type": "code",
   "execution_count": 74,
   "metadata": {},
   "outputs": [
    {
     "data": {
      "text/plain": [
       "[25400.0,\n",
       " 14400.0,\n",
       " 29000.0,\n",
       " 21500.0,\n",
       " 55000.0,\n",
       " 24000.0,\n",
       " 32500.0,\n",
       " 40500.0,\n",
       " 32400.0,\n",
       " 42500.0,\n",
       " 21000.0,\n",
       " 28875.0,\n",
       " 41500.0,\n",
       " 26000.0,\n",
       " 41000.0,\n",
       " 27500.0,\n",
       " 33000.0,\n",
       " 30000.0,\n",
       " 22500.0,\n",
       " 27000.0,\n",
       " 47500.0,\n",
       " 48500.0,\n",
       " 23040.0,\n",
       " 33500.0,\n",
       " 25000.0,\n",
       " 60000.0,\n",
       " 19000.0,\n",
       " 28000.0,\n",
       " 20160.0,\n",
       " 23000.0,\n",
       " 26052.0,\n",
       " 14792.0,\n",
       " 13440.0,\n",
       " 38500.0,\n",
       " 29500.0,\n",
       " 70000.0,\n",
       " 84000.0,\n",
       " 35000.0,\n",
       " 17250.0,\n",
       " 40000.0,\n",
       " 45000.0,\n",
       " 25920.0,\n",
       " 20000.0,\n",
       " 57500.0,\n",
       " 39000.0,\n",
       " 33600.0,\n",
       " 15000.0,\n",
       " 90000.0,\n",
       " 18240.0,\n",
       " 25800.0,\n",
       " 17280.0,\n",
       " 26500.0,\n",
       " 42000.0,\n",
       " 38000.0,\n",
       " 18000.0,\n",
       " 17500.0,\n",
       " 57600.0,\n",
       " 13600.0,\n",
       " 32821.0,\n",
       " 37000.0,\n",
       " 23500.0,\n",
       " 21120.0,\n",
       " 30500.0,\n",
       " 20200.0,\n",
       " 46549.0,\n",
       " 24600.0,\n",
       " 32000.0,\n",
       " 22080.0,\n",
       " 44000.0,\n",
       " 43000.0,\n",
       " 37500.0,\n",
       " 19200.0,\n",
       " 14000.0,\n",
       " 28800.0,\n",
       " 39500.0,\n",
       " 45120.0,\n",
       " 85000.0,\n",
       " 17750.0,\n",
       " 43200.0,\n",
       " 20727.0,\n",
       " 15360.0,\n",
       " 17400.0,\n",
       " 15250.0,\n",
       " 17000.0,\n",
       " 50000.0,\n",
       " 26400.0,\n",
       " 34560.0,\n",
       " 34500.0,\n",
       " 22716.0,\n",
       " 20500.0,\n",
       " 56640.0,\n",
       " 52800.0,\n",
       " 15500.0,\n",
       " 43500.0,\n",
       " 18720.0,\n",
       " 29750.0,\n",
       " 23750.0,\n",
       " 42240.0,\n",
       " 40357.0,\n",
       " 13200.0,\n",
       " 12480.0,\n",
       " 34000.0,\n",
       " 62500.0,\n",
       " 24500.0,\n",
       " 24960.0,\n",
       " 31000.0,\n",
       " 48000.0,\n",
       " 27840.0,\n",
       " 32640.0,\n",
       " 16500.0,\n",
       " 14500.0,\n",
       " 6720.0,\n",
       " 26555.0,\n",
       " 22800.0,\n",
       " 19950.0,\n",
       " 52500.0,\n",
       " 24691.0,\n",
       " 35500.0,\n",
       " 28200.0,\n",
       " 13500.0,\n",
       " 59000.0,\n",
       " 36000.0,\n",
       " 22250.0,\n",
       " 16320.0,\n",
       " 58500.0,\n",
       " 86400.0,\n",
       " 40445.0,\n",
       " 49000.0,\n",
       " 16800.0,\n",
       " 25500.0,\n",
       " 28500.0,\n",
       " 32250.0,\n",
       " 25440.0,\n",
       " 44160.0,\n",
       " 47040.0,\n",
       " 72000.0,\n",
       " 22750.0,\n",
       " 21600.0,\n",
       " 12500.0,\n",
       " 24854.0,\n",
       " 27237.0,\n",
       " 23250.0,\n",
       " 30600.0,\n",
       " 34800.0,\n",
       " 29760.0,\n",
       " 24632.0,\n",
       " 27600.0,\n",
       " 26570.0,\n",
       " 19387.0,\n",
       " 34896.0,\n",
       " 25200.0,\n",
       " 22000.0,\n",
       " 36500.0,\n",
       " 49370.0,\n",
       " 31500.0,\n",
       " 7000.0,\n",
       " 76800.0,\n",
       " 28629.0,\n",
       " 10000.0,\n",
       " 30465.0,\n",
       " 41650.0,\n",
       " 20065.0,\n",
       " 26880.0,\n",
       " 23520.0,\n",
       " 16000.0,\n",
       " 58000.0,\n",
       " 77500.0,\n",
       " 29400.0,\n",
       " 65000.0,\n",
       " 54720.0,\n",
       " 16250.0,\n",
       " 18500.0,\n",
       " 30720.0,\n",
       " 22617.0,\n",
       " 29172.0,\n",
       " 48960.0,\n",
       " 47000.0,\n",
       " 18550.0,\n",
       " 67200.0,\n",
       " 15600.0,\n",
       " 11884.0,\n",
       " 36902.0,\n",
       " 38400.0,\n",
       " 26054.0,\n",
       " 35400.0,\n",
       " 35520.0,\n",
       " 18750.0,\n",
       " 96000.0,\n",
       " 19800.0,\n",
       " 15750.0,\n",
       " 11400.0,\n",
       " 46137.0,\n",
       " 78000.0,\n",
       " 43035.0,\n",
       " 45600.0,\n",
       " 19920.0,\n",
       " 50500.0,\n",
       " 13824.0,\n",
       " 19342.0,\n",
       " 13843.0,\n",
       " 37200.0,\n",
       " 34070.0,\n",
       " 24750.0,\n",
       " 26127.0,\n",
       " 57499.0,\n",
       " 36480.0,\n",
       " 19500.0,\n",
       " 31440.0,\n",
       " 66000.0,\n",
       " 18250.0,\n",
       " 14880.0,\n",
       " 62499.0,\n",
       " 48750.0,\n",
       " 17068.0,\n",
       " 51000.0,\n",
       " 11808.0,\n",
       " 46080.0,\n",
       " 37800.0,\n",
       " 31750.0,\n",
       " 42736.0,\n",
       " 51500.0,\n",
       " 19250.0,\n",
       " 25250.0,\n",
       " 47499.0,\n",
       " 28372.0,\n",
       " 14520.0,\n",
       " 11000.0,\n",
       " 24336.0,\n",
       " 30134.0,\n",
       " 34361.0,\n",
       " 14999.0,\n",
       " 43734.0,\n",
       " 21081.0,\n",
       " 26833.0,\n",
       " 19865.0,\n",
       " 26720.0,\n",
       " 14457.0,\n",
       " 54024.0,\n",
       " 12600.0,\n",
       " 38750.0,\n",
       " 32269.0,\n",
       " 60500.0,\n",
       " 51840.0,\n",
       " 31693.0,\n",
       " 46500.0,\n",
       " 27960.0,\n",
       " 23639.0,\n",
       " 27360.0,\n",
       " 79200.0,\n",
       " 28850.0,\n",
       " 22850.0,\n",
       " 75000.0,\n",
       " 29250.0,\n",
       " 46176.0,\n",
       " 19550.0,\n",
       " 27813.0,\n",
       " 72500.0,\n",
       " 53760.0,\n",
       " 37499.0,\n",
       " 42816.0,\n",
       " 58560.0,\n",
       " 21588.0,\n",
       " 34200.0,\n",
       " 23875.0,\n",
       " 40320.0,\n",
       " 67500.0,\n",
       " 44750.0,\n",
       " 33961.0,\n",
       " 43080.0,\n",
       " 19186.0,\n",
       " 80000.0,\n",
       " 44500.0,\n",
       " 61440.0,\n",
       " 40226.0,\n",
       " 36600.0,\n",
       " 15113.0,\n",
       " 18272.0,\n",
       " 13000.0,\n",
       " 14550.0,\n",
       " 35085.0,\n",
       " 13516.0,\n",
       " 5040.0,\n",
       " 16727.0,\n",
       " 33750.0,\n",
       " 77328.0,\n",
       " 25574.0,\n",
       " 32900.0,\n",
       " 16999.0,\n",
       " 54000.0,\n",
       " 30900.0,\n",
       " 59520.0,\n",
       " 26250.0,\n",
       " 31680.0,\n",
       " 12096.0,\n",
       " 15245.0,\n",
       " 12000.0,\n",
       " 21024.0,\n",
       " 13250.0,\n",
       " 12960.0,\n",
       " 18336.0,\n",
       " 23679.0,\n",
       " 53000.0,\n",
       " 32750.0,\n",
       " 11180.0,\n",
       " 13800.0,\n",
       " 17242.0,\n",
       " 12537.0,\n",
       " 16200.0,\n",
       " 21382.0,\n",
       " 18815.0,\n",
       " 14750.0,\n",
       " 48600.0,\n",
       " 11500.0,\n",
       " 87600.0,\n",
       " 61000.0,\n",
       " 15215.0,\n",
       " 46325.0,\n",
       " 40080.0,\n",
       " 54500.0,\n",
       " 50880.0,\n",
       " 80500.0,\n",
       " 46000.0,\n",
       " 21250.0,\n",
       " 34558.0,\n",
       " 36704.0,\n",
       " 12076.0,\n",
       " 52000.0,\n",
       " 87500.0,\n",
       " 53500.0,\n",
       " 32912.0,\n",
       " 15850.0,\n",
       " 10122.0,\n",
       " 20250.0,\n",
       " 30430.0,\n",
       " 36192.0,\n",
       " 23550.0,\n",
       " 34550.0,\n",
       " 10500.0,\n",
       " 13785.0,\n",
       " 45500.0,\n",
       " 17760.0,\n",
       " 22742.0,\n",
       " 34888.0,\n",
       " 10560.0,\n",
       " 57000.0,\n",
       " 38223.0,\n",
       " 24441.0,\n",
       " 27245.0,\n",
       " 46063.0,\n",
       " 10800.0,\n",
       " 24912.0,\n",
       " 44700.0,\n",
       " 12422.0,\n",
       " 27494.0,\n",
       " 19224.0,\n",
       " 39198.0,\n",
       " 19656.0,\n",
       " 29279.0,\n",
       " 21200.0,\n",
       " 21750.0,\n",
       " 31320.0,\n",
       " 72499.0,\n",
       " 24288.0,\n",
       " 36175.0,\n",
       " 19193.0,\n",
       " 11520.0,\n",
       " 29098.0,\n",
       " 14700.0,\n",
       " 20640.0,\n",
       " 55500.0,\n",
       " 33337.0,\n",
       " 63500.0,\n",
       " 37680.0,\n",
       " 13411.0,\n",
       " 18048.0,\n",
       " 33120.0,\n",
       " 31200.0,\n",
       " 10723.0,\n",
       " 25565.0,\n",
       " 22368.0,\n",
       " 24856.0,\n",
       " 7500.0,\n",
       " 16226.0,\n",
       " 46462.0,\n",
       " 28968.0,\n",
       " 18300.0,\n",
       " 32105.0,\n",
       " 41280.0,\n",
       " 9750.0,\n",
       " 24200.0,\n",
       " 32623.0,\n",
       " 28450.0,\n",
       " 21956.0,\n",
       " 7200.0,\n",
       " 62400.0,\n",
       " 55680.0,\n",
       " 29691.0,\n",
       " 19750.0,\n",
       " 16522.0,\n",
       " 28680.0,\n",
       " 39600.0,\n",
       " 40118.0,\n",
       " 16750.0,\n",
       " 34032.0,\n",
       " 26304.0,\n",
       " 29456.0,\n",
       " 39360.0,\n",
       " 33250.0,\n",
       " 9996.0,\n",
       " 69000.0,\n",
       " 18816.0,\n",
       " 33696.0,\n",
       " 28060.0,\n",
       " 26552.0,\n",
       " 71250.0,\n",
       " 20400.0,\n",
       " 37920.0,\n",
       " 12750.0,\n",
       " 26078.0,\n",
       " 26999.0,\n",
       " 49999.0,\n",
       " 27999.0,\n",
       " 37440.0,\n",
       " 34390.0,\n",
       " 27055.0,\n",
       " 75600.0,\n",
       " 21236.0,\n",
       " 26750.0,\n",
       " 6750.0,\n",
       " 24315.0,\n",
       " 30750.0,\n",
       " 21561.0,\n",
       " 24163.0,\n",
       " 81000.0,\n",
       " 42499.0,\n",
       " 21830.0,\n",
       " 40368.0,\n",
       " 8750.0,\n",
       " 16262.0,\n",
       " 18447.0,\n",
       " 16405.0,\n",
       " 26918.0,\n",
       " 17850.0,\n",
       " 64800.0,\n",
       " 33030.0,\n",
       " 34212.0,\n",
       " 22387.0,\n",
       " 23296.0,\n",
       " 16640.0,\n",
       " 17600.0,\n",
       " 24480.0,\n",
       " 70200.0,\n",
       " 11113.0,\n",
       " 32700.0,\n",
       " 12240.0,\n",
       " 22900.0,\n",
       " 15625.0,\n",
       " 16203.0,\n",
       " 9600.0,\n",
       " 28488.0,\n",
       " 15696.0,\n",
       " 16616.0,\n",
       " 74880.0,\n",
       " 29280.0,\n",
       " 18430.0,\n",
       " 16343.0,\n",
       " 82500.0,\n",
       " 17977.0,\n",
       " 22441.0,\n",
       " 21657.0,\n",
       " 15056.0,\n",
       " 18585.0,\n",
       " 49500.0,\n",
       " 33553.0,\n",
       " 28088.0,\n",
       " 39936.0,\n",
       " 23400.0,\n",
       " 27884.0,\n",
       " 34300.0,\n",
       " 17900.0,\n",
       " 56500.0,\n",
       " 20736.0,\n",
       " 41056.0,\n",
       " 63000.0,\n",
       " 58800.0,\n",
       " 44060.0,\n",
       " 22200.0,\n",
       " 28050.0,\n",
       " 22560.0,\n",
       " 29116.0,\n",
       " 26840.0,\n",
       " 8640.0,\n",
       " 43432.0,\n",
       " 33840.0,\n",
       " 64680.0,\n",
       " 49920.0,\n",
       " 31918.0,\n",
       " 31453.0,\n",
       " 33384.0,\n",
       " 25876.0,\n",
       " 19266.0,\n",
       " 21150.0,\n",
       " 24768.0,\n",
       " 30250.0,\n",
       " 50412.0,\n",
       " 26125.0,\n",
       " 44400.0,\n",
       " 13622.0,\n",
       " 49915.0,\n",
       " 23700.0,\n",
       " 19100.0,\n",
       " 42612.0,\n",
       " 29999.0,\n",
       " 20300.0,\n",
       " 12144.0,\n",
       " 16118.0,\n",
       " 33733.0,\n",
       " 20750.0,\n",
       " 18216.0,\n",
       " 36250.0,\n",
       " 24300.0,\n",
       " 16831.0,\n",
       " 69600.0,\n",
       " 32499.0,\n",
       " 24413.0,\n",
       " 28750.0,\n",
       " 13249.0,\n",
       " 23300.0,\n",
       " 31800.0,\n",
       " 10780.0,\n",
       " 19968.0,\n",
       " 14064.0,\n",
       " 13750.0,\n",
       " 34750.0,\n",
       " 18866.0,\n",
       " 16447.0,\n",
       " 32520.0,\n",
       " 37115.0,\n",
       " 24547.0,\n",
       " 32160.0,\n",
       " 30041.0,\n",
       " 26289.0,\n",
       " 31775.0,\n",
       " 6700.0,\n",
       " 31025.0,\n",
       " 18800.0,\n",
       " 16325.0,\n",
       " 25459.0,\n",
       " 15264.0,\n",
       " 32438.0,\n",
       " 26016.0,\n",
       " 35350.0,\n",
       " 25450.0,\n",
       " 12875.0,\n",
       " 9375.0,\n",
       " 20280.0,\n",
       " 15840.0,\n",
       " 70096.0,\n",
       " 28080.0,\n",
       " 26058.0,\n",
       " 19897.0,\n",
       " 52499.0,\n",
       " 13875.0,\n",
       " 23088.0,\n",
       " 30800.0,\n",
       " 35040.0,\n",
       " 18015.0,\n",
       " 20143.0,\n",
       " 36750.0,\n",
       " 22321.0,\n",
       " 13795.0,\n",
       " 16212.0,\n",
       " 5500.0,\n",
       " 22022.0,\n",
       " 34650.0,\n",
       " 13152.0,\n",
       " 24451.0,\n",
       " 76176.0,\n",
       " 49200.0,\n",
       " 20025.0,\n",
       " 26910.0,\n",
       " 33465.0,\n",
       " 51120.0,\n",
       " 23378.0,\n",
       " 95000.0,\n",
       " 21819.0,\n",
       " 28950.0,\n",
       " 42195.0,\n",
       " 9975.0,\n",
       " 81600.0,\n",
       " 26784.0,\n",
       " 35750.0,\n",
       " 28975.0,\n",
       " 44250.0,\n",
       " 19300.0,\n",
       " 16100.0,\n",
       " 24462.0,\n",
       " 25117.0,\n",
       " 29891.0,\n",
       " 33283.0,\n",
       " 26266.0,\n",
       " 36960.0,\n",
       " 27942.0,\n",
       " 23836.0,\n",
       " 31442.0,\n",
       " 30993.0,\n",
       " 14560.0,\n",
       " 10200.0,\n",
       " 7680.0,\n",
       " 20860.0,\n",
       " 27200.0,\n",
       " 53250.0,\n",
       " 34125.0,\n",
       " 24339.0,\n",
       " 27250.0,\n",
       " 29120.0,\n",
       " 12840.0,\n",
       " 48066.0,\n",
       " 19488.0,\n",
       " 78720.0,\n",
       " 46800.0,\n",
       " 17798.0,\n",
       " 18432.0,\n",
       " 14640.0,\n",
       " 68000.0,\n",
       " 27571.0,\n",
       " 29606.0,\n",
       " 6000.0,\n",
       " 34732.0,\n",
       " 39939.0,\n",
       " 15897.0,\n",
       " 21306.0,\n",
       " 11942.0,\n",
       " 18050.0,\n",
       " 15552.0,\n",
       " 21334.0,\n",
       " 24250.0,\n",
       " 25843.0,\n",
       " 24549.0,\n",
       " 8500.0,\n",
       " 16080.0,\n",
       " 39307.0,\n",
       " 11300.0,\n",
       " 88200.0,\n",
       " 26265.0,\n",
       " 41185.0,\n",
       " 26303.0,\n",
       " 22272.0,\n",
       " 26179.0,\n",
       " 17030.0,\n",
       " 69120.0,\n",
       " 13724.0,\n",
       " 22107.0,\n",
       " 21840.0,\n",
       " 15379.0,\n",
       " 17249.0,\n",
       " 56673.0,\n",
       " 13920.0,\n",
       " 46200.0,\n",
       " 28205.0,\n",
       " 24776.0,\n",
       " 14100.0,\n",
       " 26764.0,\n",
       " 30875.0,\n",
       " 19680.0,\n",
       " 39955.0,\n",
       " 40050.0,\n",
       " 16150.0,\n",
       " 21553.0,\n",
       " 39379.0,\n",
       " 50970.0,\n",
       " 7800.0,\n",
       " 26100.0,\n",
       " 22310.0,\n",
       " 22700.0,\n",
       " 16176.0,\n",
       " 27648.0,\n",
       " 12921.0,\n",
       " 41250.0,\n",
       " 19339.0,\n",
       " 6746.0,\n",
       " 24370.0,\n",
       " 12288.0,\n",
       " 51600.0,\n",
       " 38792.0,\n",
       " 20131.0,\n",
       " 12672.0,\n",
       " 56886.0,\n",
       " 19671.0,\n",
       " 29337.0,\n",
       " 84480.0,\n",
       " 14582.0,\n",
       " 33040.0,\n",
       " 32686.0,\n",
       " 25036.0,\n",
       " 19174.0,\n",
       " 16630.0,\n",
       " 18390.0,\n",
       " 34499.0,\n",
       " 40343.0,\n",
       " 37446.0,\n",
       " 59999.0,\n",
       " 24588.0,\n",
       " 28112.0,\n",
       " 18527.0,\n",
       " 35078.0,\n",
       " 18600.0,\n",
       " 17340.0,\n",
       " 24610.0,\n",
       " 18225.0,\n",
       " 25550.0,\n",
       " 19584.0,\n",
       " 25625.0,\n",
       " 36144.0,\n",
       " 34450.0,\n",
       " 19226.0,\n",
       " 56000.0,\n",
       " 52681.0,\n",
       " 64320.0,\n",
       " 61200.0,\n",
       " 69214.0,\n",
       " 28038.0,\n",
       " 15609.0,\n",
       " 72073.0,\n",
       " 60082.0,\n",
       " 63750.0,\n",
       " 18979.0,\n",
       " 68500.0,\n",
       " 20027.0,\n",
       " 88800.0,\n",
       " 59601.0,\n",
       " 66440.0,\n",
       " 58079.0,\n",
       " 78600.0,\n",
       " 55200.0,\n",
       " 74000.0,\n",
       " 47700.0,\n",
       " 54600.0,\n",
       " 81712.0,\n",
       " 75500.0,\n",
       " 28860.0,\n",
       " 26444.0,\n",
       " 68584.0,\n",
       " 69694.0,\n",
       " 82000.0,\n",
       " 82800.0,\n",
       " 41253.0,\n",
       " 81750.0,\n",
       " 86151.0,\n",
       " 91326.0,\n",
       " 25204.0,\n",
       " 61800.0,\n",
       " 50068.0,\n",
       " 80110.0,\n",
       " 24918.0,\n",
       " 37300.0,\n",
       " 71000.0,\n",
       " 27825.0,\n",
       " 87000.0,\n",
       " 57679.0,\n",
       " 40055.0,\n",
       " 40440.0,\n",
       " 22203.0,\n",
       " 74022.0,\n",
       " 84600.0,\n",
       " 91200.0,\n",
       " 57410.0,\n",
       " 86518.0,\n",
       " 39776.0,\n",
       " 26401.0,\n",
       " 32837.0,\n",
       " 86000.0,\n",
       " 32044.0,\n",
       " 52200.0,\n",
       " 76200.0,\n",
       " 28274.0,\n",
       " 72098.0,\n",
       " 60364.0,\n",
       " 50250.0,\n",
       " 63306.0,\n",
       " 28719.0,\n",
       " 79709.0,\n",
       " 37750.0,\n",
       " 64000.0,\n",
       " 73500.0,\n",
       " 77867.0,\n",
       " 21580.0,\n",
       " 83000.0,\n",
       " 49294.0,\n",
       " 66500.0,\n",
       " 50400.0,\n",
       " 76905.0,\n",
       " 31999.0,\n",
       " 46250.0,\n",
       " 74400.0,\n",
       " 25857.0,\n",
       " 36288.0,\n",
       " 73200.0,\n",
       " 80880.0,\n",
       " 48499.0,\n",
       " 84595.0,\n",
       " 90016.0,\n",
       " 81926.0,\n",
       " 76896.0,\n",
       " 29743.0,\n",
       " 17517.0,\n",
       " 79000.0,\n",
       " 20171.0,\n",
       " 63600.0,\n",
       " 36671.0,\n",
       " 79800.0,\n",
       " 61500.0,\n",
       " 48120.0,\n",
       " 45840.0,\n",
       " 43750.0,\n",
       " 68400.0,\n",
       " 72960.0,\n",
       " 80400.0,\n",
       " 57775.0,\n",
       " 88121.0,\n",
       " 43800.0,\n",
       " 67195.0,\n",
       " 14711.0,\n",
       " 42600.0,\n",
       " 42960.0,\n",
       " 42080.0,\n",
       " 65500.0,\n",
       " 70800.0,\n",
       " 27750.0,\n",
       " 80640.0,\n",
       " 62485.0,\n",
       " 91440.0,\n",
       " 47151.0,\n",
       " 28021.0,\n",
       " 74500.0,\n",
       " 15585.0,\n",
       " 66270.0,\n",
       " 42057.0,\n",
       " 40856.0,\n",
       " 62000.0,\n",
       " 61286.0,\n",
       " 71400.0,\n",
       " 87444.0,\n",
       " 30004.0,\n",
       " 72099.0,\n",
       " 70500.0,\n",
       " 76104.0,\n",
       " 80121.0,\n",
       " 77001.0,\n",
       " 17952.0,\n",
       " 17100.0,\n",
       " 35904.0,\n",
       " 60060.0,\n",
       " 41184.0,\n",
       " 11750.0,\n",
       " 90420.0,\n",
       " 19125.0,\n",
       " 22150.0,\n",
       " 34090.0,\n",
       " 39072.0,\n",
       " 24224.0,\n",
       " 39705.0,\n",
       " 26928.0,\n",
       " 43560.0,\n",
       " 14256.0,\n",
       " 54999.0,\n",
       " 30624.0,\n",
       " 34999.0,\n",
       " 38016.0,\n",
       " 21416.0,\n",
       " 55968.0,\n",
       " 25750.0,\n",
       " 25344.0,\n",
       " 39999.0,\n",
       " 22176.0,\n",
       " 53663.0,\n",
       " 22241.0,\n",
       " 46464.0,\n",
       " 40920.0,\n",
       " 20064.0,\n",
       " 38550.0,\n",
       " 28150.0,\n",
       " 44999.0,\n",
       " 32200.0,\n",
       " 16896.0,\n",
       " 43550.0,\n",
       " 25260.0,\n",
       " 14784.0,\n",
       " 77880.0,\n",
       " 16906.0,\n",
       " 28250.0,\n",
       " 58650.0,\n",
       " 69960.0,\n",
       " 30558.0,\n",
       " 34320.0,\n",
       " 26358.0,\n",
       " 50688.0,\n",
       " 17520.0,\n",
       " 64999.0,\n",
       " 26579.0,\n",
       " 42250.0,\n",
       " 41838.0,\n",
       " 33550.0,\n",
       " 16277.0,\n",
       " 60192.0,\n",
       " 21088.0,\n",
       " 54912.0,\n",
       " 28650.0,\n",
       " 29600.0,\n",
       " 7939.0,\n",
       " 35598.0,\n",
       " 42384.0,\n",
       " 30306.0,\n",
       " 5760.0,\n",
       " 38725.0,\n",
       " 38999.0,\n",
       " 22464.0,\n",
       " 22400.0,\n",
       " 54988.0,\n",
       " 57120.0,\n",
       " 47520.0,\n",
       " 93600.0,\n",
       " 23712.0,\n",
       " 26625.0,\n",
       " 46656.0,\n",
       " 79999.0,\n",
       " 8000.0,\n",
       " 16918.0,\n",
       " 14176.0,\n",
       " 56250.0,\n",
       " 68750.0,\n",
       " 48100.0,\n",
       " 15542.0,\n",
       " 29550.0,\n",
       " 25110.0,\n",
       " 13209.0,\n",
       " 12768.0,\n",
       " 12710.0,\n",
       " 9772.0,\n",
       " 15820.0,\n",
       " 13248.0,\n",
       " 18528.0,\n",
       " 19946.0,\n",
       " 11164.0,\n",
       " 14275.0,\n",
       " 11990.0,\n",
       " 12576.0,\n",
       " 10704.0,\n",
       " 14150.0,\n",
       " 14976.0,\n",
       " 32076.0,\n",
       " 28416.0,\n",
       " 20448.0,\n",
       " 28400.0,\n",
       " 12896.0,\n",
       " 31350.0,\n",
       " 14380.0,\n",
       " 13219.0,\n",
       " 37536.0,\n",
       " 15550.0,\n",
       " 9475.0,\n",
       " 14534.0,\n",
       " 11923.0,\n",
       " 18143.0,\n",
       " 5088.0,\n",
       " 15743.0,\n",
       " 33640.0,\n",
       " 18880.0,\n",
       " 27254.0,\n",
       " 12432.0,\n",
       " 12662.0,\n",
       " 14328.0,\n",
       " 22956.0,\n",
       " 20678.0,\n",
       " 12153.0,\n",
       " 14304.0,\n",
       " 15494.0,\n",
       " 14748.0,\n",
       " 19872.0,\n",
       " 26879.0,\n",
       " 21912.0,\n",
       " 22834.0,\n",
       " 12268.0,\n",
       " 11671.0,\n",
       " 14271.0,\n",
       " 18975.0,\n",
       " 35632.0,\n",
       " 26725.0,\n",
       " 43962.0,\n",
       " 13188.0,\n",
       " 20851.0,\n",
       " 35490.0,\n",
       " 12374.0,\n",
       " 36372.0,\n",
       " 32003.0,\n",
       " 40994.0,\n",
       " 14516.0,\n",
       " 6240.0,\n",
       " 22812.0,\n",
       " 14056.0,\n",
       " ...]"
      ]
     },
     "execution_count": 74,
     "metadata": {},
     "output_type": "execute_result"
    }
   ],
   "source": [
    "# create another dataframe without missing values to build the model\n",
    "df_no_nan = df.dropna(axis=0)\n",
    "salary_list = df_no_nan.Salary.unique().tolist()\n",
    "salary_list"
   ]
  },
  {
   "cell_type": "code",
   "execution_count": 75,
   "metadata": {},
   "outputs": [
    {
     "data": {
      "text/html": [
       "<style>#sk-container-id-1 {color: black;background-color: white;}#sk-container-id-1 pre{padding: 0;}#sk-container-id-1 div.sk-toggleable {background-color: white;}#sk-container-id-1 label.sk-toggleable__label {cursor: pointer;display: block;width: 100%;margin-bottom: 0;padding: 0.3em;box-sizing: border-box;text-align: center;}#sk-container-id-1 label.sk-toggleable__label-arrow:before {content: \"▸\";float: left;margin-right: 0.25em;color: #696969;}#sk-container-id-1 label.sk-toggleable__label-arrow:hover:before {color: black;}#sk-container-id-1 div.sk-estimator:hover label.sk-toggleable__label-arrow:before {color: black;}#sk-container-id-1 div.sk-toggleable__content {max-height: 0;max-width: 0;overflow: hidden;text-align: left;background-color: #f0f8ff;}#sk-container-id-1 div.sk-toggleable__content pre {margin: 0.2em;color: black;border-radius: 0.25em;background-color: #f0f8ff;}#sk-container-id-1 input.sk-toggleable__control:checked~div.sk-toggleable__content {max-height: 200px;max-width: 100%;overflow: auto;}#sk-container-id-1 input.sk-toggleable__control:checked~label.sk-toggleable__label-arrow:before {content: \"▾\";}#sk-container-id-1 div.sk-estimator input.sk-toggleable__control:checked~label.sk-toggleable__label {background-color: #d4ebff;}#sk-container-id-1 div.sk-label input.sk-toggleable__control:checked~label.sk-toggleable__label {background-color: #d4ebff;}#sk-container-id-1 input.sk-hidden--visually {border: 0;clip: rect(1px 1px 1px 1px);clip: rect(1px, 1px, 1px, 1px);height: 1px;margin: -1px;overflow: hidden;padding: 0;position: absolute;width: 1px;}#sk-container-id-1 div.sk-estimator {font-family: monospace;background-color: #f0f8ff;border: 1px dotted black;border-radius: 0.25em;box-sizing: border-box;margin-bottom: 0.5em;}#sk-container-id-1 div.sk-estimator:hover {background-color: #d4ebff;}#sk-container-id-1 div.sk-parallel-item::after {content: \"\";width: 100%;border-bottom: 1px solid gray;flex-grow: 1;}#sk-container-id-1 div.sk-label:hover label.sk-toggleable__label {background-color: #d4ebff;}#sk-container-id-1 div.sk-serial::before {content: \"\";position: absolute;border-left: 1px solid gray;box-sizing: border-box;top: 0;bottom: 0;left: 50%;z-index: 0;}#sk-container-id-1 div.sk-serial {display: flex;flex-direction: column;align-items: center;background-color: white;padding-right: 0.2em;padding-left: 0.2em;position: relative;}#sk-container-id-1 div.sk-item {position: relative;z-index: 1;}#sk-container-id-1 div.sk-parallel {display: flex;align-items: stretch;justify-content: center;background-color: white;position: relative;}#sk-container-id-1 div.sk-item::before, #sk-container-id-1 div.sk-parallel-item::before {content: \"\";position: absolute;border-left: 1px solid gray;box-sizing: border-box;top: 0;bottom: 0;left: 50%;z-index: -1;}#sk-container-id-1 div.sk-parallel-item {display: flex;flex-direction: column;z-index: 1;position: relative;background-color: white;}#sk-container-id-1 div.sk-parallel-item:first-child::after {align-self: flex-end;width: 50%;}#sk-container-id-1 div.sk-parallel-item:last-child::after {align-self: flex-start;width: 50%;}#sk-container-id-1 div.sk-parallel-item:only-child::after {width: 0;}#sk-container-id-1 div.sk-dashed-wrapped {border: 1px dashed gray;margin: 0 0.4em 0.5em 0.4em;box-sizing: border-box;padding-bottom: 0.4em;background-color: white;}#sk-container-id-1 div.sk-label label {font-family: monospace;font-weight: bold;display: inline-block;line-height: 1.2em;}#sk-container-id-1 div.sk-label-container {text-align: center;}#sk-container-id-1 div.sk-container {/* jupyter's `normalize.less` sets `[hidden] { display: none; }` but bootstrap.min.css set `[hidden] { display: none !important; }` so we also need the `!important` here to be able to override the default hidden behavior on the sphinx rendered scikit-learn.org. See: https://github.com/scikit-learn/scikit-learn/issues/21755 */display: inline-block !important;position: relative;}#sk-container-id-1 div.sk-text-repr-fallback {display: none;}</style><div id=\"sk-container-id-1\" class=\"sk-top-container\"><div class=\"sk-text-repr-fallback\"><pre>LinearRegression()</pre><b>In a Jupyter environment, please rerun this cell to show the HTML representation or trust the notebook. <br />On GitHub, the HTML representation is unable to render, please try loading this page with nbviewer.org.</b></div><div class=\"sk-container\" hidden><div class=\"sk-item\"><div class=\"sk-estimator sk-toggleable\"><input class=\"sk-toggleable__control sk-hidden--visually\" id=\"sk-estimator-id-1\" type=\"checkbox\" checked><label for=\"sk-estimator-id-1\" class=\"sk-toggleable__label sk-toggleable__label-arrow\">LinearRegression</label><div class=\"sk-toggleable__content\"><pre>LinearRegression()</pre></div></div></div></div></div>"
      ],
      "text/plain": [
       "LinearRegression()"
      ]
     },
     "execution_count": 75,
     "metadata": {},
     "output_type": "execute_result"
    }
   ],
   "source": [
    "from sklearn import linear_model\n",
    "# bulid a linear regression model \n",
    "cols = ['Id']\n",
    "x_train = df_no_nan[cols]\n",
    "y_train = df_no_nan['Salary']\n",
    "regr = linear_model.LinearRegression()\n",
    "\n",
    "regr.fit(x_train,y_train) # build the model"
   ]
  },
  {
   "cell_type": "markdown",
   "metadata": {},
   "source": [
    "## null vlaues input for error table"
   ]
  },
  {
   "cell_type": "code",
   "execution_count": 76,
   "metadata": {},
   "outputs": [],
   "source": [
    "#error update\n",
    "updateErlist('All', 'All', 'Salary', 'Null','New predicted values', 'Missing values', \"columns having Null values, I have done linear regression and fitted all the missing values\")\n"
   ]
  },
  {
   "cell_type": "code",
   "execution_count": 77,
   "metadata": {},
   "outputs": [],
   "source": [
    "def predict_bath(x):\n",
    "    x_predict = regr.predict([x]) # expected 2D array as input\n",
    "    return min(salary_list, key=lambda y:abs(y-x_predict)) # return the nearest bathroom value"
   ]
  },
  {
   "cell_type": "code",
   "execution_count": 78,
   "metadata": {},
   "outputs": [],
   "source": [
    "\n",
    "# impute the missing records\n",
    "df.loc[df_missing.index,'Salary'] = \\\n",
    "df.loc[df_missing.index].apply(lambda row: predict_bath(row[cols]), axis = 1)"
   ]
  },
  {
   "cell_type": "code",
   "execution_count": 79,
   "metadata": {},
   "outputs": [
    {
     "data": {
      "text/plain": [
       "14       34920.0\n",
       "26       33386.0\n",
       "44       33995.0\n",
       "70       35520.0\n",
       "161      33980.0\n",
       "          ...   \n",
       "50553    35612.0\n",
       "50584    34800.0\n",
       "50635    35598.0\n",
       "50651    35460.0\n",
       "50681    35078.0\n",
       "Name: Salary, Length: 2563, dtype: float64"
      ]
     },
     "execution_count": 79,
     "metadata": {},
     "output_type": "execute_result"
    }
   ],
   "source": [
    "df.loc[df_missing.index,'Salary']"
   ]
  },
  {
   "cell_type": "code",
   "execution_count": 80,
   "metadata": {},
   "outputs": [],
   "source": [
    "df['Salary'] = pd.to_numeric(df['Salary'], errors='coerce').round(2)"
   ]
  },
  {
   "cell_type": "code",
   "execution_count": 81,
   "metadata": {},
   "outputs": [
    {
     "name": "stdout",
     "output_type": "stream",
     "text": [
      "<class 'pandas.core.frame.DataFrame'>\n",
      "Int64Index: 50702 entries, 0 to 50702\n",
      "Data columns (total 11 columns):\n",
      " #   Column        Non-Null Count  Dtype  \n",
      "---  ------        --------------  -----  \n",
      " 0   Id            50702 non-null  int64  \n",
      " 1   Title         50702 non-null  object \n",
      " 2   Location      50702 non-null  object \n",
      " 3   Company       50702 non-null  object \n",
      " 4   ContractType  50702 non-null  object \n",
      " 5   ContractTime  50702 non-null  object \n",
      " 6   Category      50702 non-null  object \n",
      " 7   Salary        50702 non-null  float64\n",
      " 8   OpenDate      50702 non-null  object \n",
      " 9   CloseDate     50702 non-null  object \n",
      " 10  SourceName    50702 non-null  object \n",
      "dtypes: float64(1), int64(1), object(9)\n",
      "memory usage: 6.7+ MB\n"
     ]
    }
   ],
   "source": [
    "df.info()"
   ]
  },
  {
   "cell_type": "markdown",
   "metadata": {},
   "source": [
    "## Checking for open and close date"
   ]
  },
  {
   "cell_type": "markdown",
   "metadata": {},
   "source": [
    "This code ensures that both the 'OpenDate' and 'CloseDate' columns are converted to datetime format, checks the integrity constraint to ensure that the close date is greater than the open date, and handles null values in both columns by replacing them with a default date, which is set to January 1, 2000."
   ]
  },
  {
   "cell_type": "code",
   "execution_count": 82,
   "metadata": {},
   "outputs": [
    {
     "data": {
      "text/html": [
       "<div>\n",
       "<style scoped>\n",
       "    .dataframe tbody tr th:only-of-type {\n",
       "        vertical-align: middle;\n",
       "    }\n",
       "\n",
       "    .dataframe tbody tr th {\n",
       "        vertical-align: top;\n",
       "    }\n",
       "\n",
       "    .dataframe thead th {\n",
       "        text-align: right;\n",
       "    }\n",
       "</style>\n",
       "<table border=\"1\" class=\"dataframe\">\n",
       "  <thead>\n",
       "    <tr style=\"text-align: right;\">\n",
       "      <th></th>\n",
       "      <th>Id</th>\n",
       "      <th>Title</th>\n",
       "      <th>Location</th>\n",
       "      <th>Company</th>\n",
       "      <th>ContractType</th>\n",
       "      <th>ContractTime</th>\n",
       "      <th>Category</th>\n",
       "      <th>Salary</th>\n",
       "      <th>OpenDate</th>\n",
       "      <th>CloseDate</th>\n",
       "      <th>SourceName</th>\n",
       "    </tr>\n",
       "  </thead>\n",
       "  <tbody>\n",
       "    <tr>\n",
       "      <th>0</th>\n",
       "      <td>69747285</td>\n",
       "      <td>science teacher  sundays</td>\n",
       "      <td>west london</td>\n",
       "      <td>trust education</td>\n",
       "      <td>part_time</td>\n",
       "      <td>non-specified</td>\n",
       "      <td>Teaching Jobs</td>\n",
       "      <td>25400.0</td>\n",
       "      <td>2012-09-17 15:00:00</td>\n",
       "      <td>2012-10-17 15:00:00</td>\n",
       "      <td>cv-library.co.uk</td>\n",
       "    </tr>\n",
       "    <tr>\n",
       "      <th>1</th>\n",
       "      <td>69022397</td>\n",
       "      <td>it support/rollout engineer</td>\n",
       "      <td>sheffield</td>\n",
       "      <td>matchtech group plc</td>\n",
       "      <td>non-specified</td>\n",
       "      <td>contract</td>\n",
       "      <td>IT Jobs</td>\n",
       "      <td>14400.0</td>\n",
       "      <td>2013-09-27 00:00:00</td>\n",
       "      <td>2013-10-27 00:00:00</td>\n",
       "      <td>cv-library.co.uk</td>\n",
       "    </tr>\n",
       "    <tr>\n",
       "      <th>2</th>\n",
       "      <td>69932721</td>\n",
       "      <td>electronics reliability analysis engineer</td>\n",
       "      <td>uk</td>\n",
       "      <td>innovate recruitment ltd</td>\n",
       "      <td>non-specified</td>\n",
       "      <td>permanent</td>\n",
       "      <td>Engineering Jobs</td>\n",
       "      <td>29000.0</td>\n",
       "      <td>2012-11-15 12:00:00</td>\n",
       "      <td>2013-02-13 12:00:00</td>\n",
       "      <td>cv-library.co.uk</td>\n",
       "    </tr>\n",
       "    <tr>\n",
       "      <th>3</th>\n",
       "      <td>67019364</td>\n",
       "      <td>project / planning coordinator</td>\n",
       "      <td>ely</td>\n",
       "      <td>i4 recruitment</td>\n",
       "      <td>non-specified</td>\n",
       "      <td>permanent</td>\n",
       "      <td>Engineering Jobs</td>\n",
       "      <td>21500.0</td>\n",
       "      <td>2012-04-26 15:00:00</td>\n",
       "      <td>2012-06-25 15:00:00</td>\n",
       "      <td>cv-library.co.uk</td>\n",
       "    </tr>\n",
       "    <tr>\n",
       "      <th>4</th>\n",
       "      <td>67903542</td>\n",
       "      <td>solutions architect ccnp ccip ccie</td>\n",
       "      <td>reading</td>\n",
       "      <td>jam recruitment ltd</td>\n",
       "      <td>non-specified</td>\n",
       "      <td>permanent</td>\n",
       "      <td>IT Jobs</td>\n",
       "      <td>55000.0</td>\n",
       "      <td>2013-12-19 15:00:00</td>\n",
       "      <td>2014-02-17 15:00:00</td>\n",
       "      <td>cv-library.co.uk</td>\n",
       "    </tr>\n",
       "  </tbody>\n",
       "</table>\n",
       "</div>"
      ],
      "text/plain": [
       "         Id                                      Title     Location  \\\n",
       "0  69747285                   science teacher  sundays  west london   \n",
       "1  69022397                it support/rollout engineer    sheffield   \n",
       "2  69932721  electronics reliability analysis engineer           uk   \n",
       "3  67019364             project / planning coordinator          ely   \n",
       "4  67903542         solutions architect ccnp ccip ccie      reading   \n",
       "\n",
       "                    Company   ContractType   ContractTime          Category  \\\n",
       "0           trust education      part_time  non-specified     Teaching Jobs   \n",
       "1       matchtech group plc  non-specified       contract           IT Jobs   \n",
       "2  innovate recruitment ltd  non-specified      permanent  Engineering Jobs   \n",
       "3            i4 recruitment  non-specified      permanent  Engineering Jobs   \n",
       "4       jam recruitment ltd  non-specified      permanent           IT Jobs   \n",
       "\n",
       "    Salary             OpenDate            CloseDate        SourceName  \n",
       "0  25400.0  2012-09-17 15:00:00  2012-10-17 15:00:00  cv-library.co.uk  \n",
       "1  14400.0  2013-09-27 00:00:00  2013-10-27 00:00:00  cv-library.co.uk  \n",
       "2  29000.0  2012-11-15 12:00:00  2013-02-13 12:00:00  cv-library.co.uk  \n",
       "3  21500.0  2012-04-26 15:00:00  2012-06-25 15:00:00  cv-library.co.uk  \n",
       "4  55000.0  2013-12-19 15:00:00  2014-02-17 15:00:00  cv-library.co.uk  "
      ]
     },
     "execution_count": 82,
     "metadata": {},
     "output_type": "execute_result"
    }
   ],
   "source": [
    "# Define a function to convert date strings to the desired format\n",
    "def convert_to_datetime(date_str):\n",
    "    # Define regex pattern to match both formats\n",
    "    pattern = r'(\\d{4})(\\d{2})(\\d{2})T(\\d{2})(\\d{2})(\\d{2})'\n",
    "    \n",
    "    # Check if the date string matches any of the patterns\n",
    "    match = re.match(pattern, date_str)\n",
    "    if match:\n",
    "        # Extract year, month, day, hour, minute, and second\n",
    "        year, month, day, hour, minute, second = match.groups()\n",
    "        \n",
    "        # Reformat the date string\n",
    "        return f\"{year}-{month}-{day} {hour}:{minute}:{second}\"\n",
    "    else:\n",
    "        # If no match, return None\n",
    "        return None\n",
    "\n",
    "# Apply the function to the 'OpenDate' column\n",
    "df['OpenDate'] = df['OpenDate'].apply(convert_to_datetime)\n",
    "df['CloseDate'] = df['CloseDate'].apply(convert_to_datetime)\n",
    "\n",
    "# Print the DataFrame to verify the changes\n",
    "df.head()\n"
   ]
  },
  {
   "cell_type": "code",
   "execution_count": 83,
   "metadata": {},
   "outputs": [],
   "source": [
    "#error update\n",
    "updateErlist(47819, 70532534, 'OpenDate', '2013-14-06 15:00:00','', 'integrity constraint', \"dropped these records because OpenDate has month as 14 \")\n"
   ]
  },
  {
   "cell_type": "code",
   "execution_count": 84,
   "metadata": {},
   "outputs": [],
   "source": [
    "# Convert 'OpenDate' and 'CloseDate' columns to datetime dtype if they are not already\n",
    "df['OpenDate'] = pd.to_datetime(df['OpenDate'], errors='coerce')\n",
    "df['CloseDate'] = pd.to_datetime(df['CloseDate'], errors='coerce')"
   ]
  },
  {
   "cell_type": "code",
   "execution_count": 85,
   "metadata": {},
   "outputs": [
    {
     "name": "stdout",
     "output_type": "stream",
     "text": [
      "Empty DataFrame\n",
      "Columns: [Id, Title, Location, Company, ContractType, ContractTime, Category, Salary, OpenDate, CloseDate, SourceName]\n",
      "Index: []\n"
     ]
    }
   ],
   "source": [
    "month_greater_than_12 = df[(df['OpenDate'].dt.month > 12) | (df['CloseDate'].dt.month > 12)]\n",
    "\n",
    "# Display the rows where month is greater than 12\n",
    "print(month_greater_than_12)"
   ]
  },
  {
   "cell_type": "code",
   "execution_count": 86,
   "metadata": {
    "scrolled": true
   },
   "outputs": [
    {
     "name": "stdout",
     "output_type": "stream",
     "text": [
      "Integrity constraint violated for the following rows:\n"
     ]
    }
   ],
   "source": [
    "# Check the integrity constraint and drop the rows where open date is after close date\n",
    "violated_constraint = df[df['OpenDate'] >= df['CloseDate']]\n",
    "if not violated_constraint.empty:\n",
    "    print(\"Integrity constraint violated for the following rows:\")"
   ]
  },
  {
   "cell_type": "code",
   "execution_count": 87,
   "metadata": {},
   "outputs": [
    {
     "data": {
      "text/html": [
       "<div>\n",
       "<style scoped>\n",
       "    .dataframe tbody tr th:only-of-type {\n",
       "        vertical-align: middle;\n",
       "    }\n",
       "\n",
       "    .dataframe tbody tr th {\n",
       "        vertical-align: top;\n",
       "    }\n",
       "\n",
       "    .dataframe thead th {\n",
       "        text-align: right;\n",
       "    }\n",
       "</style>\n",
       "<table border=\"1\" class=\"dataframe\">\n",
       "  <thead>\n",
       "    <tr style=\"text-align: right;\">\n",
       "      <th></th>\n",
       "      <th>Id</th>\n",
       "      <th>Title</th>\n",
       "      <th>Location</th>\n",
       "      <th>Company</th>\n",
       "      <th>ContractType</th>\n",
       "      <th>ContractTime</th>\n",
       "      <th>Category</th>\n",
       "      <th>Salary</th>\n",
       "      <th>OpenDate</th>\n",
       "      <th>CloseDate</th>\n",
       "      <th>SourceName</th>\n",
       "    </tr>\n",
       "  </thead>\n",
       "  <tbody>\n",
       "    <tr>\n",
       "      <th>3572</th>\n",
       "      <td>68218504</td>\n",
       "      <td>wind turbine engineer  south east  offshore / ...</td>\n",
       "      <td>south east england</td>\n",
       "      <td>hinson may consulting</td>\n",
       "      <td>non-specified</td>\n",
       "      <td>permanent</td>\n",
       "      <td>Engineering Jobs</td>\n",
       "      <td>33500.0</td>\n",
       "      <td>2012-07-03 15:00:00</td>\n",
       "      <td>2012-04-04 15:00:00</td>\n",
       "      <td>cv-library.co.uk</td>\n",
       "    </tr>\n",
       "    <tr>\n",
       "      <th>33385</th>\n",
       "      <td>71199441</td>\n",
       "      <td>design engineer  mobile construction plant</td>\n",
       "      <td>derbyshire</td>\n",
       "      <td>vebro</td>\n",
       "      <td>non-specified</td>\n",
       "      <td>permanent</td>\n",
       "      <td>PR, Advertising &amp; Marketing Jobs</td>\n",
       "      <td>35000.0</td>\n",
       "      <td>2012-10-24 00:00:00</td>\n",
       "      <td>2012-07-26 00:00:00</td>\n",
       "      <td>cv-library.co.uk</td>\n",
       "    </tr>\n",
       "    <tr>\n",
       "      <th>35735</th>\n",
       "      <td>67959549</td>\n",
       "      <td>care home manager york</td>\n",
       "      <td>york</td>\n",
       "      <td>non-specified</td>\n",
       "      <td>non-specified</td>\n",
       "      <td>non-specified</td>\n",
       "      <td>Healthcare &amp; Nursing Jobs</td>\n",
       "      <td>37500.0</td>\n",
       "      <td>2012-05-12 15:00:00</td>\n",
       "      <td>2012-03-13 15:00:00</td>\n",
       "      <td>cv-library.co.uk</td>\n",
       "    </tr>\n",
       "    <tr>\n",
       "      <th>36576</th>\n",
       "      <td>58728121</td>\n",
       "      <td>rnld/rmn nurse, derby **** p/h</td>\n",
       "      <td>derbyshire</td>\n",
       "      <td>non-specified</td>\n",
       "      <td>non-specified</td>\n",
       "      <td>non-specified</td>\n",
       "      <td>Healthcare &amp; Nursing Jobs</td>\n",
       "      <td>24960.0</td>\n",
       "      <td>2013-08-24 12:00:00</td>\n",
       "      <td>2013-08-10 12:00:00</td>\n",
       "      <td>cv-library.co.uk</td>\n",
       "    </tr>\n",
       "    <tr>\n",
       "      <th>43891</th>\n",
       "      <td>71602656</td>\n",
       "      <td>ophthalmic clinical nurse / technician  reading</td>\n",
       "      <td>reading</td>\n",
       "      <td>london4jobs</td>\n",
       "      <td>full_time</td>\n",
       "      <td>permanent</td>\n",
       "      <td>Engineering Jobs</td>\n",
       "      <td>26000.0</td>\n",
       "      <td>2013-06-19 12:00:00</td>\n",
       "      <td>2013-04-20 12:00:00</td>\n",
       "      <td>cv-library.co.uk</td>\n",
       "    </tr>\n",
       "  </tbody>\n",
       "</table>\n",
       "</div>"
      ],
      "text/plain": [
       "             Id                                              Title  \\\n",
       "3572   68218504  wind turbine engineer  south east  offshore / ...   \n",
       "33385  71199441         design engineer  mobile construction plant   \n",
       "35735  67959549                             care home manager york   \n",
       "36576  58728121                     rnld/rmn nurse, derby **** p/h   \n",
       "43891  71602656    ophthalmic clinical nurse / technician  reading   \n",
       "\n",
       "                 Location                Company   ContractType  \\\n",
       "3572   south east england  hinson may consulting  non-specified   \n",
       "33385          derbyshire                  vebro  non-specified   \n",
       "35735                york          non-specified  non-specified   \n",
       "36576          derbyshire          non-specified  non-specified   \n",
       "43891             reading            london4jobs      full_time   \n",
       "\n",
       "        ContractTime                          Category   Salary  \\\n",
       "3572       permanent                  Engineering Jobs  33500.0   \n",
       "33385      permanent  PR, Advertising & Marketing Jobs  35000.0   \n",
       "35735  non-specified         Healthcare & Nursing Jobs  37500.0   \n",
       "36576  non-specified         Healthcare & Nursing Jobs  24960.0   \n",
       "43891      permanent                  Engineering Jobs  26000.0   \n",
       "\n",
       "                 OpenDate           CloseDate        SourceName  \n",
       "3572  2012-07-03 15:00:00 2012-04-04 15:00:00  cv-library.co.uk  \n",
       "33385 2012-10-24 00:00:00 2012-07-26 00:00:00  cv-library.co.uk  \n",
       "35735 2012-05-12 15:00:00 2012-03-13 15:00:00  cv-library.co.uk  \n",
       "36576 2013-08-24 12:00:00 2013-08-10 12:00:00  cv-library.co.uk  \n",
       "43891 2013-06-19 12:00:00 2013-04-20 12:00:00  cv-library.co.uk  "
      ]
     },
     "execution_count": 87,
     "metadata": {},
     "output_type": "execute_result"
    }
   ],
   "source": [
    "violated_constraint.head()"
   ]
  },
  {
   "cell_type": "code",
   "execution_count": 88,
   "metadata": {},
   "outputs": [],
   "source": [
    "updateErlist(3572, 68218504, 'OpenDate,CloseDate', '2012-07-03 15:00:00,2012-04-04 15:00:00','', 'integrity constraint', \"dropped these records because OpenDate is greater than CloseDate\")\n",
    "updateErlist(33385, 71199441, 'OpenDate,CloseDate', '2012-10-24 00:00:00,2012-07-26 00:00:00','', 'integrity constraint', \"dropped these records because OpenDate is greater than CloseDate\")\n",
    "updateErlist(35735, 67959549, 'OpenDate,CloseDate', '2012-05-12 15:00:00,2012-03-13 15:00:00','', 'integrity constraint', \"dropped these records because OpenDate is greater than CloseDate\")\n",
    "updateErlist(36576, 58728121, 'OpenDate,CloseDate', '22013-08-24 12:00:00,2013-08-10 12:00:00','', 'integrity constraint', \"dropped these records because OpenDate is greater than CloseDate\")\n",
    "updateErlist(43891, 71602656, 'OpenDate,CloseDate', '2013-06-19 12:00:00,2013-04-20 12:00:00','', 'integrity constraint', \"dropped these records because OpenDate is greater than CloseDate\")\n"
   ]
  },
  {
   "cell_type": "code",
   "execution_count": 89,
   "metadata": {},
   "outputs": [],
   "source": [
    "# Drop the rows where open date is after close date\n",
    "df = df.drop(violated_constraint.index)\n"
   ]
  },
  {
   "cell_type": "code",
   "execution_count": 90,
   "metadata": {},
   "outputs": [
    {
     "data": {
      "text/html": [
       "<div>\n",
       "<style scoped>\n",
       "    .dataframe tbody tr th:only-of-type {\n",
       "        vertical-align: middle;\n",
       "    }\n",
       "\n",
       "    .dataframe tbody tr th {\n",
       "        vertical-align: top;\n",
       "    }\n",
       "\n",
       "    .dataframe thead th {\n",
       "        text-align: right;\n",
       "    }\n",
       "</style>\n",
       "<table border=\"1\" class=\"dataframe\">\n",
       "  <thead>\n",
       "    <tr style=\"text-align: right;\">\n",
       "      <th></th>\n",
       "      <th>Id</th>\n",
       "      <th>Title</th>\n",
       "      <th>Location</th>\n",
       "      <th>Company</th>\n",
       "      <th>ContractType</th>\n",
       "      <th>ContractTime</th>\n",
       "      <th>Category</th>\n",
       "      <th>Salary</th>\n",
       "      <th>OpenDate</th>\n",
       "      <th>CloseDate</th>\n",
       "      <th>SourceName</th>\n",
       "    </tr>\n",
       "  </thead>\n",
       "  <tbody>\n",
       "    <tr>\n",
       "      <th>47819</th>\n",
       "      <td>70532534</td>\n",
       "      <td>employed financial adviser – access to profess...</td>\n",
       "      <td>uk</td>\n",
       "      <td>financialadviser careers .com</td>\n",
       "      <td>non-specified</td>\n",
       "      <td>permanent</td>\n",
       "      <td>Accounting &amp; Finance Jobs</td>\n",
       "      <td>35000.0</td>\n",
       "      <td>NaT</td>\n",
       "      <td>2013-08-13 15:00:00</td>\n",
       "      <td>cv-library.co.uk</td>\n",
       "    </tr>\n",
       "  </tbody>\n",
       "</table>\n",
       "</div>"
      ],
      "text/plain": [
       "             Id                                              Title Location  \\\n",
       "47819  70532534  employed financial adviser – access to profess...       uk   \n",
       "\n",
       "                             Company   ContractType ContractTime  \\\n",
       "47819  financialadviser careers .com  non-specified    permanent   \n",
       "\n",
       "                        Category   Salary OpenDate           CloseDate  \\\n",
       "47819  Accounting & Finance Jobs  35000.0      NaT 2013-08-13 15:00:00   \n",
       "\n",
       "             SourceName  \n",
       "47819  cv-library.co.uk  "
      ]
     },
     "execution_count": 90,
     "metadata": {},
     "output_type": "execute_result"
    }
   ],
   "source": [
    "# Check for null values in 'open_date' column\n",
    "null_open_date = df[df['OpenDate'].isnull()]\n",
    "null_open_date"
   ]
  },
  {
   "cell_type": "code",
   "execution_count": 91,
   "metadata": {},
   "outputs": [],
   "source": [
    "updateErlist(47819, 70532534, 'OpenDate', 'Null','2000-01-01 00:00:00', 'Null', \"replace the null value with the default datetime\")\n"
   ]
  },
  {
   "cell_type": "code",
   "execution_count": 92,
   "metadata": {},
   "outputs": [],
   "source": [
    "# Handle null values (e.g., replace with a default date)\n",
    "default_date = pd.to_datetime('2000-01-01')  # Choose your default date\n",
    "df['OpenDate'].fillna(default_date, inplace=True)\n"
   ]
  },
  {
   "cell_type": "code",
   "execution_count": 93,
   "metadata": {},
   "outputs": [
    {
     "data": {
      "text/html": [
       "<div>\n",
       "<style scoped>\n",
       "    .dataframe tbody tr th:only-of-type {\n",
       "        vertical-align: middle;\n",
       "    }\n",
       "\n",
       "    .dataframe tbody tr th {\n",
       "        vertical-align: top;\n",
       "    }\n",
       "\n",
       "    .dataframe thead th {\n",
       "        text-align: right;\n",
       "    }\n",
       "</style>\n",
       "<table border=\"1\" class=\"dataframe\">\n",
       "  <thead>\n",
       "    <tr style=\"text-align: right;\">\n",
       "      <th></th>\n",
       "      <th>Id</th>\n",
       "      <th>Title</th>\n",
       "      <th>Location</th>\n",
       "      <th>Company</th>\n",
       "      <th>ContractType</th>\n",
       "      <th>ContractTime</th>\n",
       "      <th>Category</th>\n",
       "      <th>Salary</th>\n",
       "      <th>OpenDate</th>\n",
       "      <th>CloseDate</th>\n",
       "      <th>SourceName</th>\n",
       "    </tr>\n",
       "  </thead>\n",
       "  <tbody>\n",
       "  </tbody>\n",
       "</table>\n",
       "</div>"
      ],
      "text/plain": [
       "Empty DataFrame\n",
       "Columns: [Id, Title, Location, Company, ContractType, ContractTime, Category, Salary, OpenDate, CloseDate, SourceName]\n",
       "Index: []"
      ]
     },
     "execution_count": 93,
     "metadata": {},
     "output_type": "execute_result"
    }
   ],
   "source": [
    "# Check for null values in 'open_date' column after handling\n",
    "null_open_date = df[df['OpenDate'].isnull()]\n",
    "null_open_date"
   ]
  },
  {
   "cell_type": "markdown",
   "metadata": {},
   "source": [
    "## Checking for the SourceName"
   ]
  },
  {
   "cell_type": "markdown",
   "metadata": {},
   "source": [
    "There are no errors in the column SourceName"
   ]
  },
  {
   "cell_type": "code",
   "execution_count": 94,
   "metadata": {},
   "outputs": [
    {
     "data": {
      "text/plain": [
       "array(['cv-library.co.uk'], dtype=object)"
      ]
     },
     "execution_count": 94,
     "metadata": {},
     "output_type": "execute_result"
    }
   ],
   "source": [
    "df['SourceName'].unique()"
   ]
  },
  {
   "cell_type": "code",
   "execution_count": 95,
   "metadata": {},
   "outputs": [
    {
     "data": {
      "text/plain": [
       "cv-library.co.uk    50697\n",
       "Name: SourceName, dtype: int64"
      ]
     },
     "execution_count": 95,
     "metadata": {},
     "output_type": "execute_result"
    }
   ],
   "source": [
    "df['SourceName'].fillna('non-specified', inplace=True)\n",
    "df['SourceName']= df['SourceName'].str.lower()\n",
    "df['SourceName'].value_counts()"
   ]
  },
  {
   "cell_type": "code",
   "execution_count": 96,
   "metadata": {},
   "outputs": [],
   "source": [
    "# Remove duplicates\n",
    "df.drop_duplicates(inplace=True)"
   ]
  },
  {
   "cell_type": "code",
   "execution_count": 97,
   "metadata": {},
   "outputs": [
    {
     "data": {
      "text/plain": [
       "Id                       int64\n",
       "Title                   object\n",
       "Location                object\n",
       "Company                 object\n",
       "ContractType            object\n",
       "ContractTime            object\n",
       "Category                object\n",
       "Salary                 float64\n",
       "OpenDate        datetime64[ns]\n",
       "CloseDate       datetime64[ns]\n",
       "SourceName              object\n",
       "dtype: object"
      ]
     },
     "execution_count": 97,
     "metadata": {},
     "output_type": "execute_result"
    }
   ],
   "source": [
    "df.dtypes"
   ]
  },
  {
   "cell_type": "markdown",
   "metadata": {},
   "source": [
    "## Saving data\n",
    "Save the parsed and cleaned data as well as the error list, named as:\n",
    "- \\s4015344_dataset1_solution.csv\n",
    "- \\s4015344_errorlist.csv"
   ]
  },
  {
   "cell_type": "code",
   "execution_count": 98,
   "metadata": {},
   "outputs": [],
   "source": [
    "# code to save output data\n",
    "df.to_csv('s4015344_dataset1_solution.csv',index = False)\n",
    "erlist.to_csv('s4015344_errorlist.csv',index = False)"
   ]
  },
  {
   "cell_type": "markdown",
   "metadata": {},
   "source": [
    "## Summary\n",
    "\n",
    "In this task, I successfully parsed the given XML file and conducted thorough auditing and cleaning to rectify various data issues. These included addressing typos, spelling mistakes, irregularities such as abnormal data values and formats, ensuring adherence to integrity constraints, handling outliers, removing duplications, dealing with missing values, and resolving inconsistencies, such as discrepancies in representing the same data. These steps collectively enhance the quality and reliability of the dataset, making it suitable for further analysis and interpretation.\n"
   ]
  }
 ],
 "metadata": {
  "kernelspec": {
   "display_name": "Python 3 (ipykernel)",
   "language": "python",
   "name": "python3"
  },
  "language_info": {
   "codemirror_mode": {
    "name": "ipython",
    "version": 3
   },
   "file_extension": ".py",
   "mimetype": "text/x-python",
   "name": "python",
   "nbconvert_exporter": "python",
   "pygments_lexer": "ipython3",
   "version": "3.11.3"
  }
 },
 "nbformat": 4,
 "nbformat_minor": 1
}
